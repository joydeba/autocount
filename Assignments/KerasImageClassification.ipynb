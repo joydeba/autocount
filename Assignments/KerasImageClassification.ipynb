{
  "nbformat": 4,
  "nbformat_minor": 0,
  "metadata": {
    "colab": {
      "name": "KerasImageClassification.ipynb",
      "provenance": [],
      "collapsed_sections": []
    },
    "kernelspec": {
      "name": "python3",
      "display_name": "Python 3"
    },
    "accelerator": "GPU"
  },
  "cells": [
    {
      "cell_type": "markdown",
      "metadata": {
        "id": "Wj154fDM4gmb",
        "colab_type": "text"
      },
      "source": [
        "## Keras Image Classification Tutorial"
      ]
    },
    {
      "cell_type": "code",
      "metadata": {
        "id": "Gb_XTRnSpxKP",
        "colab_type": "code",
        "colab": {},
        "tags": []
      },
      "source": [
        "import tensorflow as tf \n",
        "fashion_mnist = tf.keras.datasets.fashion_mnist\n",
        "\n",
        "(x_train, y_train),(x_test, y_test) = fashion_mnist.load_data()\n",
        "x_train, x_test = x_train / 255.0, x_test / 255.0\n",
        "\n",
        "# !git clone https://github.com/tensorflow/tensorflow.git \n",
        "\n",
        "import input_data\n",
        "mnist = input_data.read_data_sets(\"/tmp/data/\", one_hot=True)"
      ],
      "execution_count": 4,
      "outputs": [
        {
          "output_type": "error",
          "ename": "ModuleNotFoundError",
          "evalue": "No module named &#39;tensorflow.examples.tutorials&#39;",
          "traceback": [
            "\u001b[0;31m---------------------------------------------------------------------------\u001b[0m",
            "\u001b[0;31mModuleNotFoundError\u001b[0m                       Traceback (most recent call last)",
            "\u001b[0;32m&lt;ipython-input-4-6f5b2f96df02&gt;\u001b[0m in \u001b[0;36m&lt;module&gt;\u001b[0;34m\u001b[0m\n\u001b[1;32m      7\u001b[0m \u001b[0;31m# !git clone https://github.com/tensorflow/tensorflow.git\u001b[0m\u001b[0;34m\u001b[0m\u001b[0;34m\u001b[0m\u001b[0;34m\u001b[0m\u001b[0m\n\u001b[1;32m      8\u001b[0m \u001b[0;34m\u001b[0m\u001b[0m\n\u001b[0;32m----&gt; 9\u001b[0;31m \u001b[0;32mfrom\u001b[0m \u001b[0mtensorflow\u001b[0m\u001b[0;34m.\u001b[0m\u001b[0mexamples\u001b[0m\u001b[0;34m.\u001b[0m\u001b[0mtutorials\u001b[0m\u001b[0;34m.\u001b[0m\u001b[0mmnist\u001b[0m \u001b[0;32mimport\u001b[0m \u001b[0minput_data\u001b[0m\u001b[0;34m\u001b[0m\u001b[0;34m\u001b[0m\u001b[0m\n\u001b[0m\u001b[1;32m     10\u001b[0m \u001b[0mmnist\u001b[0m \u001b[0;34m=\u001b[0m \u001b[0minput_data\u001b[0m\u001b[0;34m.\u001b[0m\u001b[0mread_data_sets\u001b[0m\u001b[0;34m(\u001b[0m\u001b[0;34m&quot;/tmp/data/&quot;\u001b[0m\u001b[0;34m,\u001b[0m \u001b[0mone_hot\u001b[0m\u001b[0;34m=\u001b[0m\u001b[0;32mTrue\u001b[0m\u001b[0;34m)\u001b[0m\u001b[0;34m\u001b[0m\u001b[0;34m\u001b[0m\u001b[0m\n",
            "\u001b[0;31mModuleNotFoundError\u001b[0m: No module named &#39;tensorflow.examples.tutorials&#39;"
          ]
        }
      ]
    },
    {
      "cell_type": "code",
      "metadata": {
        "id": "X8xYiOJFp4RY",
        "colab_type": "code",
        "colab": {},
        "tags": []
      },
      "source": [
        "import os, datetime\n",
        "def create_model():\n",
        "  return tf.keras.models.Sequential([\n",
        "    tf.keras.layers.Flatten(input_shape=(28, 28)),\n",
        "    tf.keras.layers.Dense(512, activation='relu'),\n",
        "    tf.keras.layers.Dropout(0.2),\n",
        "    tf.keras.layers.Dense(10, activation='softmax')\n",
        "  ])\n",
        "\n",
        "\n",
        "def train_model():\n",
        "  model = create_model()\n",
        "  model.compile(optimizer='adam',\n",
        "                loss='sparse_categorical_crossentropy',\n",
        "                metrics=['accuracy'])\n",
        "\n",
        "  logdir = os.path.join(\"logs\", datetime.datetime.now().strftime(\"%Y%m%d-%H%M%S\"))\n",
        "  tensorboard_callback = tf.keras.callbacks.TensorBoard(logdir, histogram_freq=1)\n",
        "\n",
        "  model.fit(x=x_train, \n",
        "            y=y_train, \n",
        "            epochs=5, \n",
        "            validation_data=(x_test, y_test),\n",
        "            callbacks=[tensorboard_callback])\n",
        "\n",
        "train_model()\n"
      ],
      "execution_count": 5,
      "outputs": [
        {
          "output_type": "stream",
          "name": "stdout",
          "text": "Epoch 1/5\n   1/1875 [..............................] - ETA: 0s - loss: 2.4829 - accuracy: 0.0312WARNING:tensorflow:Callbacks method `on_train_batch_end` is slow compared to the batch time (batch time: 0.0019s vs `on_train_batch_end` time: 0.0196s). Check your callbacks.\n1875/1875 [==============================] - 3s 2ms/step - loss: 0.4949 - accuracy: 0.8209 - val_loss: 0.4032 - val_accuracy: 0.8552\nEpoch 2/5\n1875/1875 [==============================] - 3s 2ms/step - loss: 0.3834 - accuracy: 0.8599 - val_loss: 0.3815 - val_accuracy: 0.8616\nEpoch 3/5\n1875/1875 [==============================] - 3s 2ms/step - loss: 0.3482 - accuracy: 0.8718 - val_loss: 0.3773 - val_accuracy: 0.8650\nEpoch 4/5\n1875/1875 [==============================] - 3s 2ms/step - loss: 0.3286 - accuracy: 0.8779 - val_loss: 0.3476 - val_accuracy: 0.8735\nEpoch 5/5\n1875/1875 [==============================] - 3s 2ms/step - loss: 0.3142 - accuracy: 0.8846 - val_loss: 0.3477 - val_accuracy: 0.8732\n"
        }
      ]
    },
    {
      "cell_type": "code",
      "metadata": {
        "id": "BHRikuU04u6J",
        "colab_type": "code",
        "colab": {},
        "tags": []
      },
      "source": [
        "%load_ext tensorboard"
      ],
      "execution_count": 8,
      "outputs": [
        {
          "output_type": "stream",
          "name": "stdout",
          "text": "The tensorboard extension is already loaded. To reload it, use:\n  %reload_ext tensorboard\n"
        }
      ]
    },
    {
      "cell_type": "code",
      "metadata": {
        "id": "v5k7rskxBwRQ",
        "colab_type": "code",
        "colab": {}
      },
      "source": [
        "%tensorboard --logdir logs"
      ],
      "execution_count": 13,
      "outputs": [
        {
          "output_type": "display_data",
          "data": {
            "text/plain": "Reusing TensorBoard on port 6006 (pid 26665), started 0:05:23 ago. (Use '!kill 26665' to kill it.)"
          },
          "metadata": {}
        }
      ]
    },
    {
      "cell_type": "code",
      "execution_count": null,
      "metadata": {},
      "outputs": [],
      "source": []
    },
    {
      "cell_type": "code",
      "execution_count": null,
      "metadata": {},
      "outputs": [],
      "source": []
    }
  ]
}