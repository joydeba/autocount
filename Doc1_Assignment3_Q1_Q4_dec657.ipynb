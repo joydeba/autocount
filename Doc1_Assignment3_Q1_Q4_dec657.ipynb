{
  "nbformat": 4,
  "nbformat_minor": 0,
  "metadata": {
    "colab": {
      "name": "Doc1_Assignment3_Q1_Q4_dec657.ipynb",
      "provenance": [],
      "collapsed_sections": []
    },
    "kernelspec": {
      "name": "python3",
      "display_name": "Python 3"
    }
  },
  "cells": [
    {
      "cell_type": "markdown",
      "metadata": {
        "id": "B2c3e3bDZMCI"
      },
      "source": [
        "**Importing Required Libraries**"
      ]
    },
    {
      "cell_type": "code",
      "metadata": {
        "id": "iUU3kfu2Yok1"
      },
      "source": [
        "# Packages\n",
        "import datetime\n",
        "import numpy as np\n",
        "import tensorflow as tf\n",
        "import matplotlib.pyplot as plt\n",
        "# Tensorflow packages\n",
        "from tensorflow.keras import Model\n",
        "from tensorflow.keras.models import Sequential\n",
        "from tensorflow.keras.losses import categorical_crossentropy\n",
        "from tensorflow.keras.layers import Dense, Flatten, Conv2D, AveragePooling2D\n",
        "from tensorflow.keras.regularizers import l2, l1\n",
        "from tensorflow.keras.layers import GlobalMaxPooling2D\n",
        "from tensorflow.keras import datasets\n",
        "from tensorflow.keras.utils import to_categorical\n",
        "from tensorflow.keras.callbacks import Callback\n",
        "from tensorflow.keras.models import load_model\n",
        "import math"
      ],
      "execution_count": 1,
      "outputs": []
    },
    {
      "cell_type": "markdown",
      "metadata": {
        "id": "7MDpZ5EyCW6L"
      },
      "source": [
        "**Data Loading and Spliting**"
      ]
    },
    {
      "cell_type": "code",
      "metadata": {
        "id": "F2oFjwU4CjgV",
        "colab": {
          "base_uri": "https://localhost:8080/"
        },
        "outputId": "e065dac5-713f-440e-9fdc-b34fda991b4c"
      },
      "source": [
        "(x_train, y_train), (x_test, y_test) = datasets.fashion_mnist.load_data()"
      ],
      "execution_count": 2,
      "outputs": []
    },
    {
      "cell_type": "markdown",
      "metadata": {
        "id": "6xwt3lguEExx"
      },
      "source": [
        "**Data Preparation**"
      ]
    },
    {
      "cell_type": "code",
      "metadata": {
        "id": "JeyGjg9TDDm_"
      },
      "source": [
        "# Fixation of Axis for the dataset\n",
        "x_train = x_train[:, :, :, np.newaxis]\n",
        "x_test = x_test[:, :, :, np.newaxis]\n",
        "\n",
        "# Binary classes \n",
        "num_classes = 10\n",
        "y_train = to_categorical(y_train, num_classes)\n",
        "y_test = to_categorical(y_test, num_classes)\n",
        "\n",
        "# Normalization\n",
        "x_train = x_train.astype('float32')\n",
        "x_test = x_test.astype('float32')\n",
        "x_train /= 255\n",
        "x_test /= 255"
      ],
      "execution_count": 3,
      "outputs": []
    },
    {
      "cell_type": "markdown",
      "metadata": {
        "id": "iFh6UrHWHRjz"
      },
      "source": [
        "**Create Model**"
      ]
    },
    {
      "cell_type": "code",
      "metadata": {
        "id": "VlBKfjT9K5db"
      },
      "source": [
        "# LeNet5 base model layers\n",
        "class LeNet(Sequential):\n",
        "    def __init__(self, input_shape, nb_classes):\n",
        "        super().__init__()\n",
        "        self.add(Conv2D(6, kernel_size=(5, 5), strides=(1, 1), activation='relu', input_shape=input_shape, padding=\"same\"))\n",
        "        self.add(AveragePooling2D(pool_size=(2, 2), strides=(2, 2), padding='valid'))\n",
        "        self.add(Conv2D(16, kernel_size=(5, 5), strides=(1, 1), activation='relu', padding='valid'))\n",
        "        self.add(AveragePooling2D(pool_size=(2, 2), strides=(2, 2), padding='valid'))\n",
        "        self.add(Flatten())\n",
        "        self.add(Dense(120, activation='relu'))\n",
        "        self.add(Dense(84, activation='relu'))\n",
        "        self.add(Dense(nb_classes, activation='softmax'))\n",
        "        self.compile(optimizer='adam',\n",
        "                    loss=categorical_crossentropy,\n",
        "                    metrics=['accuracy'])"
      ],
      "execution_count": 4,
      "outputs": []
    },
    {
      "cell_type": "code",
      "metadata": {
        "id": "43NJ43gaAgy3"
      },
      "source": [
        "# LeNet5 model layers with L2 weight decay regularization\n",
        "class LeNetReguL2(Sequential):\n",
        "    def __init__(self, input_shape, nb_classes, l2_value = 0.01):\n",
        "        super().__init__()\n",
        "        self.add(Conv2D(6, kernel_size=(5, 5), strides=(1, 1), activation='relu', input_shape=input_shape, padding=\"same\", kernel_regularizer=l2(l2_value)))\n",
        "        self.add(AveragePooling2D(pool_size=(2, 2), strides=(2, 2), padding='valid'))\n",
        "        self.add(Conv2D(16, kernel_size=(5, 5), strides=(1, 1), activation='relu', padding='valid', kernel_regularizer=l2(l2_value)))\n",
        "        self.add(AveragePooling2D(pool_size=(2, 2), strides=(2, 2), padding='valid'))\n",
        "        self.add(Flatten())\n",
        "        self.add(Dense(120, activation='relu', kernel_regularizer=l2(l2_value)))\n",
        "        self.add(Dense(84, activation='relu', kernel_regularizer=l2(l2_value)))\n",
        "        self.add(Dense(nb_classes, activation='softmax'))\n",
        "\n",
        "        self.compile(optimizer='adam',\n",
        "                    loss=categorical_crossentropy,\n",
        "                    metrics=['accuracy'])"
      ],
      "execution_count": 5,
      "outputs": []
    },
    {
      "cell_type": "code",
      "metadata": {
        "id": "mfIP_v_UAksA"
      },
      "source": [
        "# LeNet5 model layers with L1 weight decay regularization\n",
        "class LeNetReguL1(Sequential):\n",
        "    def __init__(self, input_shape, nb_classes, l1_value = 0.01):\n",
        "        super().__init__()\n",
        "        self.add(Conv2D(6, kernel_size=(5, 5), strides=(1, 1), activation='relu', input_shape=input_shape, padding=\"same\", kernel_regularizer=l1(l1_value)))\n",
        "        self.add(AveragePooling2D(pool_size=(2, 2), strides=(2, 2), padding='valid'))\n",
        "        self.add(Conv2D(16, kernel_size=(5, 5), strides=(1, 1), activation='relu', padding='valid', kernel_regularizer=l1(l1_value)))\n",
        "        self.add(AveragePooling2D(pool_size=(2, 2), strides=(2, 2), padding='valid'))\n",
        "        self.add(Flatten())\n",
        "        self.add(Dense(120, activation='relu', kernel_regularizer=l1(l1_value)))\n",
        "        self.add(Dense(84, activation='relu', kernel_regularizer=l1(l1_value)))\n",
        "        self.add(Dense(nb_classes, activation='softmax'))\n",
        "\n",
        "        self.compile(optimizer='adam',\n",
        "                    loss=categorical_crossentropy,\n",
        "                    metrics=['accuracy'])"
      ],
      "execution_count": 6,
      "outputs": []
    },
    {
      "cell_type": "code",
      "metadata": {
        "id": "fRRPgRjkAluH"
      },
      "source": [
        "# LeNet5 model without fully-connected layers\n",
        "class LeNetGAP(Sequential):\n",
        "    def __init__(self, input_shape, nb_classes):\n",
        "        super().__init__()\n",
        "        self.add(Conv2D(6, kernel_size=(5, 5), strides=(1, 1), activation='relu', input_shape=input_shape, padding=\"same\"))\n",
        "        self.add(AveragePooling2D(pool_size=(2, 2), strides=(2, 2), padding='valid'))\n",
        "        self.add(Conv2D(16, kernel_size=(5, 5), strides=(1, 1), activation='relu', padding='valid'))\n",
        "        self.add(AveragePooling2D(pool_size=(2, 2), strides=(2, 2), padding='valid'))\n",
        "        self.add(GlobalMaxPooling2D())\n",
        "        # self.add(GlobalMaxPooling2D())\n",
        "        self.add(Dense(nb_classes, activation='softmax'))\n",
        "        self.compile(optimizer='adam',\n",
        "                    loss=categorical_crossentropy,\n",
        "                    metrics=['accuracy'])"
      ],
      "execution_count": 7,
      "outputs": []
    },
    {
      "cell_type": "code",
      "metadata": {
        "id": "HKsUjTfaBliP"
      },
      "source": [
        "# # LeNet5 model experiments layers\n",
        "# class Temp(Sequential):\n",
        "#     def __init__(self, input_shape, nb_classes):\n",
        "#         super().__init__()\n",
        "#         # self.add(Conv2D(6, kernel_size=(5, 5), strides=(1, 1), activation='relu', input_shape=input_shape, padding=\"same\", kernel_regularizer=l2(0.01)))\n",
        "#         self.add(Conv2D(6, kernel_size=(5, 5), strides=(1, 1), activation='relu', input_shape=input_shape, padding=\"same\", kernel_regularizer=l1(0.01)))\n",
        "#         self.add(AveragePooling2D(pool_size=(2, 2), strides=(2, 2), padding='valid'))\n",
        "#         # self.add(Conv2D(16, kernel_size=(5, 5), strides=(1, 1), activation='relu', padding='valid', kernel_regularizer=l2(0.01)))\n",
        "#         self.add(Conv2D(16, kernel_size=(5, 5), strides=(1, 1), activation='relu', padding='valid', kernel_regularizer=l1(0.01)))\n",
        "#         self.add(AveragePooling2D(pool_size=(2, 2), strides=(2, 2), padding='valid'))\n",
        "#         # self.add(Flatten())\n",
        "#         # self.add(Dense(120, activation='relu'))\n",
        "#         self.add(GlobalMaxPooling2D())\n",
        "#         # self.add(Dense(84, activation='relu'))\n",
        "#         # self.add(GlobalMaxPooling2D())\n",
        "#         self.add(Dense(nb_classes, activation='softmax'))\n",
        "#         # self.add(AveragePooling2D())\n",
        "#         self.compile(optimizer='adam',\n",
        "#                     loss=categorical_crossentropy,\n",
        "#                     metrics=['accuracy'])"
      ],
      "execution_count": 8,
      "outputs": []
    },
    {
      "cell_type": "markdown",
      "metadata": {
        "id": "g1EpT8o768F2"
      },
      "source": [
        "**Sparsity Coefficient**"
      ]
    },
    {
      "cell_type": "code",
      "metadata": {
        "id": "L9pJlFMe7AJM"
      },
      "source": [
        "# def gini_coefficient(x):\n",
        "#     mad = np.abs(np.subtract.outer(x, x)).mean()\n",
        "#     rmad = mad/np.mean(x)\n",
        "#     g = 0.5 * rmad\n",
        "#     return g\n",
        "    \n",
        "def hoyer_index(x):\n",
        "  rows,columns = x.shape\n",
        "  f_up = 0\n",
        "  f_down = 0\n",
        "  for row in range (rows):\n",
        "    for column in range (columns):\n",
        "      if x[row, column] != 0:\n",
        "        f_up = f_up + np.absolute(x[row, column]) \n",
        "        f_down = f_down + (x[row, column])**2\n",
        "  f_down = (f_down)**(0.5)\n",
        "  h_index = (((rows*columns)**(0.5)) - (f_up/f_down))/(((rows*columns)**(0.5))-1)\n",
        "  return h_index\n",
        "\n",
        "\n",
        "x = np.zeros((100,100))\n",
        "x [5,2] = 1\n",
        "hoyer_index(x)"
      ],
      "execution_count": 39,
      "outputs": [
        {
          "output_type": "execute_result",
          "data": {
            "text/plain": [
              "1.0"
            ]
          },
          "metadata": {},
          "execution_count": 39
        }
      ]
    },
    {
      "cell_type": "markdown",
      "metadata": {
        "id": "4Le3fDDsLeZ7"
      },
      "source": [
        "**Construct Model**"
      ]
    },
    {
      "cell_type": "code",
      "metadata": {
        "id": "dnsE_5F_Llbf"
      },
      "source": [
        "modelLeNet = LeNet(x_train[0].shape, num_classes)\n",
        "modelLeNetReguL2v1 = LeNetReguL2(x_train[0].shape, num_classes, l2_value = 0.01)\n",
        "modelLeNetReguL2v2 = LeNetReguL2(x_train[0].shape, num_classes, l2_value = 0.02)\n",
        "modelLeNetReguL1v1 = LeNetReguL1(x_train[0].shape, num_classes, l1_value = 0.01)\n",
        "modelLeNetReguL1v2 = LeNetReguL1(x_train[0].shape, num_classes, l1_value = 0.01)\n",
        "modelLeNetGAP = LeNetGAP(x_train[0].shape, num_classes)\n",
        "# model.summary()\n",
        "# !pip install ipdb\n",
        "# import ipdb; ipdb.set_trace()"
      ],
      "execution_count": 10,
      "outputs": []
    },
    {
      "cell_type": "markdown",
      "metadata": {
        "id": "ZC9B4skECiZd"
      },
      "source": [
        "**Timing**"
      ]
    },
    {
      "cell_type": "code",
      "metadata": {
        "id": "uYcxDnYlCop9"
      },
      "source": [
        "import time\n",
        "class TimeHistory(tf.keras.callbacks.Callback):\n",
        "    test_time_start = 0\n",
        "    def on_train_begin(self, logs={}):\n",
        "        self.times = []\n",
        "\n",
        "    def on_test_begin(self, batch, logs={}):\n",
        "        self.test_time_start = time.time()\n",
        "\n",
        "    def on_test_end(self, batch, logs={}):\n",
        "        self.times.append(time.time() - self.test_time_start)\n",
        "# reference: https://stackoverflow.com/questions/43178668/record-the-computation-time-for-each-epoch-in-keras-during-model-fit "
      ],
      "execution_count": 11,
      "outputs": []
    },
    {
      "cell_type": "markdown",
      "metadata": {
        "id": "f5QMjVt4MJhu"
      },
      "source": [
        "**Training the model**"
      ]
    },
    {
      "cell_type": "code",
      "metadata": {
        "id": "XEHCeRawNItJ",
        "colab": {
          "base_uri": "https://localhost:8080/"
        },
        "outputId": "fd15eee5-adcd-424f-d979-a0fa1ab3ff66"
      },
      "source": [
        "run_times_LeNet = []\n",
        "run_times_LeNetReguL2v1 = []\n",
        "run_times_LeNetReguL2v2 = []\n",
        "run_times_LeNetReguL1v1 = []\n",
        "run_times_LeNetReguL1v2 = []\n",
        "run_times_LeNetGAP = []\n",
        "no_of_epochs = 5\n",
        "\n",
        "for i in range(0, 3):\n",
        "  time_callback = TimeHistory()\n",
        "  log_dir=\"logs/fit/\" + datetime.datetime.now().strftime(\"%Y%m%d-%H%M%S\")\n",
        "  tensorboard_callback = tf.keras.callbacks.TensorBoard(log_dir=log_dir, histogram_freq=1)\n",
        "  historyLeNet = modelLeNet.fit(x_train, y=y_train, \n",
        "            epochs=no_of_epochs, \n",
        "            validation_data=(x_test, y_test), \n",
        "            callbacks=[tensorboard_callback, time_callback],\n",
        "            )\n",
        "  run_times_LeNet.append(historyLeNet.history['val_loss'][-1])\n",
        "  model_info_LeNet = {'TrainingError':historyLeNet.history['loss'][-1],'TestError': historyLeNet.history['val_loss'][-1], 'SDTestError':run_times_LeNet, 'InferenceTime':time_callback.times[-1], 'NoofParameters':modelLeNet.count_params()}\n",
        "  modelLeNet.save('modelLeNet.h5')\n",
        "  # del modelLeNet\n",
        "\n",
        "  time_callback = TimeHistory()\n",
        "  log_dir=\"logs/fit/\" + datetime.datetime.now().strftime(\"%Y%m%d-%H%M%S\")\n",
        "  tensorboard_callback = tf.keras.callbacks.TensorBoard(log_dir=log_dir, histogram_freq=1)\n",
        "  historyLeNetReguL2v1 = modelLeNetReguL2v1.fit(x_train, y=y_train, \n",
        "            epochs=no_of_epochs, \n",
        "            validation_data=(x_test, y_test), \n",
        "            callbacks=[tensorboard_callback, time_callback],\n",
        "            )\n",
        "  run_times_LeNetReguL2v1.append(historyLeNetReguL2v1.history['val_loss'][-1])\n",
        "  model_info_LeNetReguL2v1 = {'TrainingError':historyLeNetReguL2v1.history['loss'][-1],'TestError': historyLeNetReguL2v1.history['val_loss'][-1], 'SDTestError':run_times_LeNetReguL2v1, 'InferenceTime':time_callback.times[-1], 'NoofParameters':modelLeNetReguL2v1.count_params()}  \n",
        "  modelLeNetReguL2v1.save('modelLeNetReguL2v1.h5')\n",
        "  # del modelLeNetReguL2v1\n",
        "\n",
        "\n",
        "  time_callback = TimeHistory()\n",
        "  log_dir=\"logs/fit/\" + datetime.datetime.now().strftime(\"%Y%m%d-%H%M%S\")\n",
        "  tensorboard_callback = tf.keras.callbacks.TensorBoard(log_dir=log_dir, histogram_freq=1)\n",
        "  historyLeNetReguL2v2 = modelLeNetReguL2v2.fit(x_train, y=y_train, \n",
        "            epochs=no_of_epochs, \n",
        "            validation_data=(x_test, y_test), \n",
        "            callbacks=[tensorboard_callback, time_callback],\n",
        "            )\n",
        "  run_times_LeNetReguL2v2.append(historyLeNetReguL2v2.history['val_loss'][-1])\n",
        "  model_info_LeNetReguL2v2 = {'TrainingError':historyLeNetReguL2v2.history['loss'][-1],'TestError': historyLeNetReguL2v2.history['val_loss'][-1], 'SDTestError':run_times_LeNetReguL2v2, 'InferenceTime':time_callback.times[-1], 'NoofParameters':modelLeNetReguL2v2.count_params()}\n",
        "  modelLeNetReguL2v2.save('modelLeNetReguL2v2.h5')\n",
        "  # del modelLeNetReguL2v2\n",
        "\n",
        "  time_callback = TimeHistory()\n",
        "  log_dir=\"logs/fit/\" + datetime.datetime.now().strftime(\"%Y%m%d-%H%M%S\")\n",
        "  tensorboard_callback = tf.keras.callbacks.TensorBoard(log_dir=log_dir, histogram_freq=1)\n",
        "  historyLeNetReguL1v1 = modelLeNetReguL1v1.fit(x_train, y=y_train, \n",
        "            epochs=no_of_epochs, \n",
        "            validation_data=(x_test, y_test), \n",
        "            callbacks=[tensorboard_callback, time_callback],\n",
        "            )\n",
        "  run_times_LeNetReguL1v1.append(historyLeNetReguL1v1.history['val_loss'][-1])\n",
        "  model_info_LeNetReguL1v1 = {'TrainingError':historyLeNetReguL1v1.history['loss'][-1],'TestError': historyLeNetReguL1v1.history['val_loss'][-1], 'SDTestError':run_times_LeNetReguL1v1, 'InferenceTime':time_callback.times[-1], 'NoofParameters':modelLeNetReguL1v1.count_params()}\n",
        "  modelLeNetReguL1v1.save('modelLeNetReguL1v1.h5')\n",
        "  # del modelLeNetReguL1v1\n",
        "   \n",
        "\n",
        "  time_callback = TimeHistory()\n",
        "  log_dir=\"logs/fit/\" + datetime.datetime.now().strftime(\"%Y%m%d-%H%M%S\")\n",
        "  tensorboard_callback = tf.keras.callbacks.TensorBoard(log_dir=log_dir, histogram_freq=1)\n",
        "  historyLeNetReguL1v2 = modelLeNetReguL1v2.fit(x_train, y=y_train, \n",
        "            epochs=no_of_epochs, \n",
        "            validation_data=(x_test, y_test), \n",
        "            callbacks=[tensorboard_callback, time_callback],\n",
        "            )\n",
        "  run_times_LeNetReguL1v2.append(historyLeNetReguL1v2.history['val_loss'][-1])\n",
        "  model_info_LeNetReguL1v2 = {'TrainingError':historyLeNetReguL1v2.history['loss'][-1],'TestError': historyLeNetReguL1v2.history['val_loss'][-1], 'SDTestError':run_times_LeNetReguL1v2, 'InferenceTime':time_callback.times[-1], 'NoofParameters':modelLeNetReguL1v2.count_params()}\n",
        "  modelLeNetReguL1v2.save('modelLeNetReguL1v2.h5')\n",
        "  # del modelLeNetReguL1v2\n",
        "\n",
        "  time_callback = TimeHistory()\n",
        "  log_dir=\"logs/fit/\" + datetime.datetime.now().strftime(\"%Y%m%d-%H%M%S\")\n",
        "  tensorboard_callback = tf.keras.callbacks.TensorBoard(log_dir=log_dir, histogram_freq=1)\n",
        "  historyLeNetGAP = modelLeNetGAP.fit(x_train, y=y_train, \n",
        "            epochs=no_of_epochs, \n",
        "            validation_data=(x_test, y_test), \n",
        "            callbacks=[tensorboard_callback, time_callback],\n",
        "            )\n",
        "  run_times_LeNetGAP.append(historyLeNetGAP.history['val_loss'][-1])\n",
        "  model_info_LeNetGAP = {'TrainingError':historyLeNetGAP.history['loss'][-1],'TestError': historyLeNetGAP.history['val_loss'][-1], 'SDTestError':run_times_LeNetGAP, 'InferenceTime':time_callback.times[-1], 'NoofParameters':modelLeNetGAP.count_params()}\n",
        "  modelLeNetGAP.save('modelLeNetGAP.h5')\n",
        "  # del modelLeNetGAP\n",
        "  "
      ],
      "execution_count": 12,
      "outputs": [
        {
          "output_type": "stream",
          "name": "stdout",
          "text": [
            "Epoch 1/5\n",
            "   1/1875 [..............................] - ETA: 0s - loss: 2.2845 - accuracy: 0.1562WARNING:tensorflow:From /home/ubuntu/anaconda3/lib/python3.8/site-packages/tensorflow/python/ops/summary_ops_v2.py:1277: stop (from tensorflow.python.eager.profiler) is deprecated and will be removed after 2020-07-01.\n",
            "Instructions for updating:\n",
            "use `tf.profiler.experimental.stop` instead.\n",
            "1875/1875 [==============================] - 12s 6ms/step - loss: 0.5478 - accuracy: 0.7973 - val_loss: 0.4485 - val_accuracy: 0.8342\n",
            "Epoch 2/5\n",
            "1875/1875 [==============================] - 11s 6ms/step - loss: 0.3734 - accuracy: 0.8614 - val_loss: 0.3646 - val_accuracy: 0.8631\n",
            "Epoch 3/5\n",
            "1875/1875 [==============================] - 11s 6ms/step - loss: 0.3238 - accuracy: 0.8804 - val_loss: 0.3427 - val_accuracy: 0.8735\n",
            "Epoch 4/5\n",
            "1875/1875 [==============================] - 11s 6ms/step - loss: 0.2931 - accuracy: 0.8908 - val_loss: 0.3339 - val_accuracy: 0.8777\n",
            "Epoch 5/5\n",
            "1875/1875 [==============================] - 11s 6ms/step - loss: 0.2707 - accuracy: 0.8996 - val_loss: 0.2986 - val_accuracy: 0.8904\n",
            "Epoch 1/5\n",
            "   1/1875 [..............................] - ETA: 0s - loss: 5.2646 - accuracy: 0.0625WARNING:tensorflow:Callbacks method `on_train_batch_end` is slow compared to the batch time (batch time: 0.0077s vs `on_train_batch_end` time: 0.0341s). Check your callbacks.\n",
            "1875/1875 [==============================] - 12s 6ms/step - loss: 1.0966 - accuracy: 0.7432 - val_loss: 0.7909 - val_accuracy: 0.7945\n",
            "Epoch 2/5\n",
            "1875/1875 [==============================] - 11s 6ms/step - loss: 0.7566 - accuracy: 0.7973 - val_loss: 0.7308 - val_accuracy: 0.8010\n",
            "Epoch 3/5\n",
            "1875/1875 [==============================] - 12s 6ms/step - loss: 0.7001 - accuracy: 0.8122 - val_loss: 0.7057 - val_accuracy: 0.8053\n",
            "Epoch 4/5\n",
            "1875/1875 [==============================] - 11s 6ms/step - loss: 0.6703 - accuracy: 0.8188 - val_loss: 0.6902 - val_accuracy: 0.8132\n",
            "Epoch 5/5\n",
            "1875/1875 [==============================] - 12s 6ms/step - loss: 0.6486 - accuracy: 0.8262 - val_loss: 0.6423 - val_accuracy: 0.8201\n",
            "Epoch 1/5\n",
            "   1/1875 [..............................] - ETA: 0s - loss: 8.1646 - accuracy: 0.0938WARNING:tensorflow:Callbacks method `on_train_batch_end` is slow compared to the batch time (batch time: 0.0057s vs `on_train_batch_end` time: 0.0323s). Check your callbacks.\n",
            "1875/1875 [==============================] - 12s 6ms/step - loss: 1.2560 - accuracy: 0.7089 - val_loss: 0.9240 - val_accuracy: 0.7475\n",
            "Epoch 2/5\n",
            "1875/1875 [==============================] - 11s 6ms/step - loss: 0.8626 - accuracy: 0.7517 - val_loss: 0.8342 - val_accuracy: 0.7633\n",
            "Epoch 3/5\n",
            "1875/1875 [==============================] - 11s 6ms/step - loss: 0.8122 - accuracy: 0.7652 - val_loss: 0.8089 - val_accuracy: 0.7635\n",
            "Epoch 4/5\n",
            "1875/1875 [==============================] - 12s 6ms/step - loss: 0.7823 - accuracy: 0.7721 - val_loss: 0.7934 - val_accuracy: 0.7638\n",
            "Epoch 5/5\n",
            "1875/1875 [==============================] - 11s 6ms/step - loss: 0.7613 - accuracy: 0.7795 - val_loss: 0.7866 - val_accuracy: 0.7633\n",
            "Epoch 1/5\n",
            "   1/1875 [..............................] - ETA: 0s - loss: 38.1404 - accuracy: 0.0938WARNING:tensorflow:Callbacks method `on_train_batch_end` is slow compared to the batch time (batch time: 0.0062s vs `on_train_batch_end` time: 0.0359s). Check your callbacks.\n",
            "1875/1875 [==============================] - 12s 6ms/step - loss: 2.2111 - accuracy: 0.6416 - val_loss: 1.1806 - val_accuracy: 0.7244\n",
            "Epoch 2/5\n",
            "1875/1875 [==============================] - 11s 6ms/step - loss: 1.1266 - accuracy: 0.7277 - val_loss: 1.1075 - val_accuracy: 0.7362\n",
            "Epoch 3/5\n",
            "1875/1875 [==============================] - 11s 6ms/step - loss: 1.0498 - accuracy: 0.7386 - val_loss: 1.0518 - val_accuracy: 0.7380\n",
            "Epoch 4/5\n",
            "1875/1875 [==============================] - 11s 6ms/step - loss: 1.0188 - accuracy: 0.7423 - val_loss: 1.0743 - val_accuracy: 0.7299\n",
            "Epoch 5/5\n",
            "1875/1875 [==============================] - 11s 6ms/step - loss: 0.9989 - accuracy: 0.7480 - val_loss: 1.0137 - val_accuracy: 0.7471\n",
            "Epoch 1/5\n",
            "   1/1875 [..............................] - ETA: 0s - loss: 37.9966 - accuracy: 0.2500WARNING:tensorflow:Callbacks method `on_train_batch_end` is slow compared to the batch time (batch time: 0.0061s vs `on_train_batch_end` time: 0.0353s). Check your callbacks.\n",
            "1875/1875 [==============================] - 12s 6ms/step - loss: 2.2619 - accuracy: 0.6551 - val_loss: 1.2049 - val_accuracy: 0.7193\n",
            "Epoch 2/5\n",
            "1875/1875 [==============================] - 11s 6ms/step - loss: 1.1513 - accuracy: 0.7224 - val_loss: 1.1299 - val_accuracy: 0.7140\n",
            "Epoch 3/5\n",
            "1875/1875 [==============================] - 11s 6ms/step - loss: 1.0822 - accuracy: 0.7319 - val_loss: 1.0704 - val_accuracy: 0.7380\n",
            "Epoch 4/5\n",
            "1875/1875 [==============================] - 12s 6ms/step - loss: 1.0415 - accuracy: 0.7388 - val_loss: 1.0529 - val_accuracy: 0.7264\n",
            "Epoch 5/5\n",
            "1875/1875 [==============================] - 11s 6ms/step - loss: 1.0199 - accuracy: 0.7445 - val_loss: 1.0187 - val_accuracy: 0.7468\n",
            "Epoch 1/5\n",
            "   1/1875 [..............................] - ETA: 0s - loss: 2.3424 - accuracy: 0.1250WARNING:tensorflow:Callbacks method `on_train_batch_end` is slow compared to the batch time (batch time: 0.0057s vs `on_train_batch_end` time: 0.0266s). Check your callbacks.\n",
            "1875/1875 [==============================] - 11s 6ms/step - loss: 0.8606 - accuracy: 0.7018 - val_loss: 0.6298 - val_accuracy: 0.7788\n",
            "Epoch 2/5\n",
            "1875/1875 [==============================] - 11s 6ms/step - loss: 0.5750 - accuracy: 0.7976 - val_loss: 0.6074 - val_accuracy: 0.7769\n",
            "Epoch 3/5\n",
            "1875/1875 [==============================] - 11s 6ms/step - loss: 0.5162 - accuracy: 0.8181 - val_loss: 0.5199 - val_accuracy: 0.8191\n",
            "Epoch 4/5\n",
            "1875/1875 [==============================] - 11s 6ms/step - loss: 0.4825 - accuracy: 0.8308 - val_loss: 0.5324 - val_accuracy: 0.8128\n",
            "Epoch 5/5\n",
            "1875/1875 [==============================] - 11s 6ms/step - loss: 0.4613 - accuracy: 0.8369 - val_loss: 0.4784 - val_accuracy: 0.8328\n",
            "Epoch 1/5\n",
            "   1/1875 [..............................] - ETA: 0s - loss: 0.2394 - accuracy: 0.9375WARNING:tensorflow:Callbacks method `on_train_batch_end` is slow compared to the batch time (batch time: 0.0066s vs `on_train_batch_end` time: 0.0121s). Check your callbacks.\n",
            "1875/1875 [==============================] - 12s 6ms/step - loss: 0.2540 - accuracy: 0.9035 - val_loss: 0.3016 - val_accuracy: 0.8907\n",
            "Epoch 2/5\n",
            "1875/1875 [==============================] - 12s 6ms/step - loss: 0.2376 - accuracy: 0.9107 - val_loss: 0.2865 - val_accuracy: 0.8966\n",
            "Epoch 3/5\n",
            "1875/1875 [==============================] - 12s 6ms/step - loss: 0.2246 - accuracy: 0.9161 - val_loss: 0.2808 - val_accuracy: 0.8982\n",
            "Epoch 4/5\n",
            "1875/1875 [==============================] - 12s 6ms/step - loss: 0.2129 - accuracy: 0.9198 - val_loss: 0.2831 - val_accuracy: 0.8983\n",
            "Epoch 5/5\n",
            "1875/1875 [==============================] - 12s 6ms/step - loss: 0.2045 - accuracy: 0.9227 - val_loss: 0.2899 - val_accuracy: 0.8958\n",
            "Epoch 1/5\n",
            "1875/1875 [==============================] - 12s 6ms/step - loss: 0.6343 - accuracy: 0.8274 - val_loss: 0.6448 - val_accuracy: 0.8213\n",
            "Epoch 2/5\n",
            "1875/1875 [==============================] - 12s 6ms/step - loss: 0.6191 - accuracy: 0.8312 - val_loss: 0.6355 - val_accuracy: 0.8241\n",
            "Epoch 3/5\n",
            "1875/1875 [==============================] - 12s 6ms/step - loss: 0.6063 - accuracy: 0.8352 - val_loss: 0.6201 - val_accuracy: 0.8276\n",
            "Epoch 4/5\n",
            "1875/1875 [==============================] - 12s 7ms/step - loss: 0.5973 - accuracy: 0.8371 - val_loss: 0.6107 - val_accuracy: 0.8316\n",
            "Epoch 5/5\n",
            "1875/1875 [==============================] - 12s 6ms/step - loss: 0.5888 - accuracy: 0.8392 - val_loss: 0.6392 - val_accuracy: 0.8126\n",
            "Epoch 1/5\n",
            "1875/1875 [==============================] - 12s 6ms/step - loss: 0.7438 - accuracy: 0.7865 - val_loss: 0.7782 - val_accuracy: 0.7799\n",
            "Epoch 2/5\n",
            "1875/1875 [==============================] - 12s 6ms/step - loss: 0.7297 - accuracy: 0.7906 - val_loss: 0.7521 - val_accuracy: 0.7808\n",
            "Epoch 3/5\n",
            "1875/1875 [==============================] - 12s 6ms/step - loss: 0.7178 - accuracy: 0.7955 - val_loss: 0.7273 - val_accuracy: 0.7913\n",
            "Epoch 4/5\n",
            "1875/1875 [==============================] - 12s 6ms/step - loss: 0.7065 - accuracy: 0.8008 - val_loss: 0.7132 - val_accuracy: 0.7957\n",
            "Epoch 5/5\n",
            "1875/1875 [==============================] - 12s 6ms/step - loss: 0.7001 - accuracy: 0.8020 - val_loss: 0.7377 - val_accuracy: 0.7905\n",
            "Epoch 1/5\n",
            "1875/1875 [==============================] - 12s 7ms/step - loss: 0.9875 - accuracy: 0.7470 - val_loss: 0.9965 - val_accuracy: 0.7485\n",
            "Epoch 2/5\n",
            "1875/1875 [==============================] - 12s 6ms/step - loss: 0.9787 - accuracy: 0.7499 - val_loss: 0.9823 - val_accuracy: 0.7491\n",
            "Epoch 3/5\n",
            "1875/1875 [==============================] - 13s 7ms/step - loss: 0.9732 - accuracy: 0.7511 - val_loss: 0.9788 - val_accuracy: 0.7450\n",
            "Epoch 4/5\n",
            "1875/1875 [==============================] - 12s 6ms/step - loss: 0.9662 - accuracy: 0.7528 - val_loss: 0.9840 - val_accuracy: 0.7452\n",
            "Epoch 5/5\n",
            "1875/1875 [==============================] - 12s 6ms/step - loss: 0.9599 - accuracy: 0.7538 - val_loss: 0.9699 - val_accuracy: 0.7505\n",
            "Epoch 1/5\n",
            "1875/1875 [==============================] - 12s 6ms/step - loss: 1.0059 - accuracy: 0.7468 - val_loss: 1.0325 - val_accuracy: 0.7386\n",
            "Epoch 2/5\n",
            "1875/1875 [==============================] - 13s 7ms/step - loss: 0.9939 - accuracy: 0.7510 - val_loss: 1.0206 - val_accuracy: 0.7415\n",
            "Epoch 3/5\n",
            "1875/1875 [==============================] - 13s 7ms/step - loss: 0.9873 - accuracy: 0.7520 - val_loss: 1.0137 - val_accuracy: 0.7287\n",
            "Epoch 4/5\n",
            "1875/1875 [==============================] - 13s 7ms/step - loss: 0.9783 - accuracy: 0.7536 - val_loss: 1.0087 - val_accuracy: 0.7402\n",
            "Epoch 5/5\n",
            "1875/1875 [==============================] - 13s 7ms/step - loss: 0.9709 - accuracy: 0.7561 - val_loss: 0.9781 - val_accuracy: 0.7487\n",
            "Epoch 1/5\n",
            "1875/1875 [==============================] - 11s 6ms/step - loss: 0.4440 - accuracy: 0.8420 - val_loss: 0.4644 - val_accuracy: 0.8350\n",
            "Epoch 2/5\n",
            "1875/1875 [==============================] - 11s 6ms/step - loss: 0.4317 - accuracy: 0.8464 - val_loss: 0.4629 - val_accuracy: 0.8392\n",
            "Epoch 3/5\n",
            "1875/1875 [==============================] - 11s 6ms/step - loss: 0.4219 - accuracy: 0.8498 - val_loss: 0.4496 - val_accuracy: 0.8411\n",
            "Epoch 4/5\n",
            "1875/1875 [==============================] - 11s 6ms/step - loss: 0.4134 - accuracy: 0.8525 - val_loss: 0.4409 - val_accuracy: 0.8431\n",
            "Epoch 5/5\n",
            "1875/1875 [==============================] - 11s 6ms/step - loss: 0.4054 - accuracy: 0.8543 - val_loss: 0.4324 - val_accuracy: 0.8432\n",
            "Epoch 1/5\n",
            "1875/1875 [==============================] - 12s 7ms/step - loss: 0.1936 - accuracy: 0.9266 - val_loss: 0.2835 - val_accuracy: 0.8998\n",
            "Epoch 2/5\n",
            "1875/1875 [==============================] - 12s 6ms/step - loss: 0.1847 - accuracy: 0.9300 - val_loss: 0.2866 - val_accuracy: 0.8923\n",
            "Epoch 3/5\n",
            "1875/1875 [==============================] - 12s 6ms/step - loss: 0.1757 - accuracy: 0.9338 - val_loss: 0.2758 - val_accuracy: 0.9043\n",
            "Epoch 4/5\n",
            "1875/1875 [==============================] - 12s 6ms/step - loss: 0.1698 - accuracy: 0.9348 - val_loss: 0.2675 - val_accuracy: 0.9076\n",
            "Epoch 5/5\n",
            "1875/1875 [==============================] - 12s 6ms/step - loss: 0.1585 - accuracy: 0.9395 - val_loss: 0.3083 - val_accuracy: 0.9027\n",
            "Epoch 1/5\n",
            "1875/1875 [==============================] - 12s 6ms/step - loss: 0.5835 - accuracy: 0.8406 - val_loss: 0.6044 - val_accuracy: 0.8305\n",
            "Epoch 2/5\n",
            "1875/1875 [==============================] - 12s 6ms/step - loss: 0.5761 - accuracy: 0.8424 - val_loss: 0.6088 - val_accuracy: 0.8311\n",
            "Epoch 3/5\n",
            "1875/1875 [==============================] - 12s 6ms/step - loss: 0.5711 - accuracy: 0.8422 - val_loss: 0.5853 - val_accuracy: 0.8348\n",
            "Epoch 4/5\n",
            "1875/1875 [==============================] - 12s 6ms/step - loss: 0.5672 - accuracy: 0.8432 - val_loss: 0.5952 - val_accuracy: 0.8289\n",
            "Epoch 5/5\n",
            "1875/1875 [==============================] - 12s 6ms/step - loss: 0.5617 - accuracy: 0.8453 - val_loss: 0.5736 - val_accuracy: 0.8421\n",
            "Epoch 1/5\n",
            "1875/1875 [==============================] - 12s 6ms/step - loss: 0.6943 - accuracy: 0.8044 - val_loss: 0.6887 - val_accuracy: 0.8052\n",
            "Epoch 2/5\n",
            "1875/1875 [==============================] - 12s 6ms/step - loss: 0.6880 - accuracy: 0.8068 - val_loss: 0.7012 - val_accuracy: 0.8042\n",
            "Epoch 3/5\n",
            "1875/1875 [==============================] - 12s 6ms/step - loss: 0.6825 - accuracy: 0.8077 - val_loss: 0.6838 - val_accuracy: 0.8117\n",
            "Epoch 4/5\n",
            "1875/1875 [==============================] - 12s 6ms/step - loss: 0.6745 - accuracy: 0.8116 - val_loss: 0.6850 - val_accuracy: 0.8096\n",
            "Epoch 5/5\n",
            "1875/1875 [==============================] - 12s 6ms/step - loss: 0.6732 - accuracy: 0.8117 - val_loss: 0.6875 - val_accuracy: 0.8041\n",
            "Epoch 1/5\n",
            "1875/1875 [==============================] - 12s 6ms/step - loss: 0.9532 - accuracy: 0.7557 - val_loss: 0.9944 - val_accuracy: 0.7363\n",
            "Epoch 2/5\n",
            "1875/1875 [==============================] - 12s 6ms/step - loss: 0.9509 - accuracy: 0.7559 - val_loss: 0.9849 - val_accuracy: 0.7388\n",
            "Epoch 3/5\n",
            "1875/1875 [==============================] - 12s 6ms/step - loss: 0.9472 - accuracy: 0.7577 - val_loss: 0.9617 - val_accuracy: 0.7558\n",
            "Epoch 4/5\n",
            "1875/1875 [==============================] - 12s 6ms/step - loss: 0.9447 - accuracy: 0.7582 - val_loss: 0.9706 - val_accuracy: 0.7420\n",
            "Epoch 5/5\n",
            "1875/1875 [==============================] - 12s 6ms/step - loss: 0.9395 - accuracy: 0.7586 - val_loss: 0.9517 - val_accuracy: 0.7542\n",
            "Epoch 1/5\n",
            "1875/1875 [==============================] - 12s 6ms/step - loss: 0.9666 - accuracy: 0.7570 - val_loss: 0.9878 - val_accuracy: 0.7445\n",
            "Epoch 2/5\n",
            "1875/1875 [==============================] - 12s 6ms/step - loss: 0.9620 - accuracy: 0.7594 - val_loss: 0.9969 - val_accuracy: 0.7372\n",
            "Epoch 3/5\n",
            "1875/1875 [==============================] - 12s 6ms/step - loss: 0.9580 - accuracy: 0.7588 - val_loss: 0.9778 - val_accuracy: 0.7507\n",
            "Epoch 4/5\n",
            "1875/1875 [==============================] - 11s 6ms/step - loss: 0.9529 - accuracy: 0.7599 - val_loss: 0.9652 - val_accuracy: 0.7493\n",
            "Epoch 5/5\n",
            "1875/1875 [==============================] - 11s 6ms/step - loss: 0.9487 - accuracy: 0.7610 - val_loss: 0.9581 - val_accuracy: 0.7573\n",
            "Epoch 1/5\n",
            "1875/1875 [==============================] - 10s 5ms/step - loss: 0.3979 - accuracy: 0.8568 - val_loss: 0.4304 - val_accuracy: 0.8417\n",
            "Epoch 2/5\n",
            "1875/1875 [==============================] - 11s 6ms/step - loss: 0.3910 - accuracy: 0.8590 - val_loss: 0.4152 - val_accuracy: 0.8493\n",
            "Epoch 3/5\n",
            "1875/1875 [==============================] - 11s 6ms/step - loss: 0.3872 - accuracy: 0.8610 - val_loss: 0.4221 - val_accuracy: 0.8470\n",
            "Epoch 4/5\n",
            "1875/1875 [==============================] - 10s 6ms/step - loss: 0.3817 - accuracy: 0.8627 - val_loss: 0.4183 - val_accuracy: 0.8498\n",
            "Epoch 5/5\n",
            "1875/1875 [==============================] - 10s 5ms/step - loss: 0.3765 - accuracy: 0.8643 - val_loss: 0.4078 - val_accuracy: 0.8531\n"
          ]
        }
      ]
    },
    {
      "cell_type": "markdown",
      "metadata": {
        "id": "V-8prZudE53r"
      },
      "source": [
        "**Number of parameters for the models**"
      ]
    },
    {
      "cell_type": "code",
      "metadata": {
        "id": "l9kLKp5VFDw4"
      },
      "source": [
        "# modelLeNet = load_model('modelLeNet.h5')\n",
        "# modelLeNetReguL2v1 = load_model('modelLeNetReguL2v1.h5')\n",
        "# modelLeNetReguL2v2 = load_model('modelLeNetReguL2v2.h5')\n",
        "# modelLeNetReguL1v1 = load_model('modelLeNetReguL1v1.h5')\n",
        "# modelLeNetReguL1v2 = load_model('modelLeNetReguL1v2.h5')\n",
        "# modelLeNetGAP = load_model('modelLeNetGAP.h5')\n",
        "\n",
        "\n",
        "print('Parameters of modelLeNet: {:.4f}'.format(modelLeNet.count_params()))\n",
        "print('Parameters of modelLeNetReguL2v1: {:.4f}'.format(modelLeNetReguL2v1.count_params()))\n",
        "print('Parameters of modelLeNetReguL2v2: {:.4f}'.format(modelLeNetReguL2v2.count_params()))\n",
        "print('Parameters of modelLeNetReguL1v1: {:.4f}'.format(modelLeNetReguL1v1.count_params()))\n",
        "print('Parameters of modelLeNetReguL1v2: {:.4f}'.format(modelLeNetReguL1v2.count_params()))\n",
        "print('Parameters of modelLeNetGAP: {:.4f}'.format(modelLeNetGAP.count_params()))"
      ],
      "execution_count": 13,
      "outputs": [
        {
          "output_type": "stream",
          "name": "stdout",
          "text": [
            "Parameters of modelLeNet: 61706.0000\nParameters of modelLeNetReguL2v1: 61706.0000\nParameters of modelLeNetReguL2v2: 61706.0000\nParameters of modelLeNetReguL1v1: 61706.0000\nParameters of modelLeNetReguL1v2: 61706.0000\nParameters of modelLeNetGAP: 2742.0000\n"
          ]
        }
      ]
    },
    {
      "cell_type": "markdown",
      "metadata": {
        "id": "kVsbtkh_S43S"
      },
      "source": [
        "**Summary Table**"
      ]
    },
    {
      "cell_type": "code",
      "metadata": {
        "id": "ov5EuQ2ATEEO"
      },
      "source": [
        "modelLeNet.summary()\n",
        "modelLeNetReguL2v1.summary()\n",
        "modelLeNetReguL2v2.summary()\n",
        "modelLeNetReguL1v1.summary()\n",
        "modelLeNetReguL1v2.summary()\n",
        "modelLeNetGAP.summary()"
      ],
      "execution_count": 14,
      "outputs": [
        {
          "output_type": "stream",
          "name": "stdout",
          "text": [
            "Model: \"le_net\"\n_________________________________________________________________\nLayer (type)                 Output Shape              Param #   \n=================================================================\nconv2d (Conv2D)              (None, 28, 28, 6)         156       \n_________________________________________________________________\naverage_pooling2d (AveragePo (None, 14, 14, 6)         0         \n_________________________________________________________________\nconv2d_1 (Conv2D)            (None, 10, 10, 16)        2416      \n_________________________________________________________________\naverage_pooling2d_1 (Average (None, 5, 5, 16)          0         \n_________________________________________________________________\nflatten (Flatten)            (None, 400)               0         \n_________________________________________________________________\ndense (Dense)                (None, 120)               48120     \n_________________________________________________________________\ndense_1 (Dense)              (None, 84)                10164     \n_________________________________________________________________\ndense_2 (Dense)              (None, 10)                850       \n=================================================================\nTotal params: 61,706\nTrainable params: 61,706\nNon-trainable params: 0\n_________________________________________________________________\nModel: \"le_net_regu_l2\"\n_________________________________________________________________\nLayer (type)                 Output Shape              Param #   \n=================================================================\nconv2d_2 (Conv2D)            (None, 28, 28, 6)         156       \n_________________________________________________________________\naverage_pooling2d_2 (Average (None, 14, 14, 6)         0         \n_________________________________________________________________\nconv2d_3 (Conv2D)            (None, 10, 10, 16)        2416      \n_________________________________________________________________\naverage_pooling2d_3 (Average (None, 5, 5, 16)          0         \n_________________________________________________________________\nflatten_1 (Flatten)          (None, 400)               0         \n_________________________________________________________________\ndense_3 (Dense)              (None, 120)               48120     \n_________________________________________________________________\ndense_4 (Dense)              (None, 84)                10164     \n_________________________________________________________________\ndense_5 (Dense)              (None, 10)                850       \n=================================================================\nTotal params: 61,706\nTrainable params: 61,706\nNon-trainable params: 0\n_________________________________________________________________\nModel: \"le_net_regu_l2_1\"\n_________________________________________________________________\nLayer (type)                 Output Shape              Param #   \n=================================================================\nconv2d_4 (Conv2D)            (None, 28, 28, 6)         156       \n_________________________________________________________________\naverage_pooling2d_4 (Average (None, 14, 14, 6)         0         \n_________________________________________________________________\nconv2d_5 (Conv2D)            (None, 10, 10, 16)        2416      \n_________________________________________________________________\naverage_pooling2d_5 (Average (None, 5, 5, 16)          0         \n_________________________________________________________________\nflatten_2 (Flatten)          (None, 400)               0         \n_________________________________________________________________\ndense_6 (Dense)              (None, 120)               48120     \n_________________________________________________________________\ndense_7 (Dense)              (None, 84)                10164     \n_________________________________________________________________\ndense_8 (Dense)              (None, 10)                850       \n=================================================================\nTotal params: 61,706\nTrainable params: 61,706\nNon-trainable params: 0\n_________________________________________________________________\nModel: \"le_net_regu_l1\"\n_________________________________________________________________\nLayer (type)                 Output Shape              Param #   \n=================================================================\nconv2d_6 (Conv2D)            (None, 28, 28, 6)         156       \n_________________________________________________________________\naverage_pooling2d_6 (Average (None, 14, 14, 6)         0         \n_________________________________________________________________\nconv2d_7 (Conv2D)            (None, 10, 10, 16)        2416      \n_________________________________________________________________\naverage_pooling2d_7 (Average (None, 5, 5, 16)          0         \n_________________________________________________________________\nflatten_3 (Flatten)          (None, 400)               0         \n_________________________________________________________________\ndense_9 (Dense)              (None, 120)               48120     \n_________________________________________________________________\ndense_10 (Dense)             (None, 84)                10164     \n_________________________________________________________________\ndense_11 (Dense)             (None, 10)                850       \n=================================================================\nTotal params: 61,706\nTrainable params: 61,706\nNon-trainable params: 0\n_________________________________________________________________\nModel: \"le_net_regu_l1_1\"\n_________________________________________________________________\nLayer (type)                 Output Shape              Param #   \n=================================================================\nconv2d_8 (Conv2D)            (None, 28, 28, 6)         156       \n_________________________________________________________________\naverage_pooling2d_8 (Average (None, 14, 14, 6)         0         \n_________________________________________________________________\nconv2d_9 (Conv2D)            (None, 10, 10, 16)        2416      \n_________________________________________________________________\naverage_pooling2d_9 (Average (None, 5, 5, 16)          0         \n_________________________________________________________________\nflatten_4 (Flatten)          (None, 400)               0         \n_________________________________________________________________\ndense_12 (Dense)             (None, 120)               48120     \n_________________________________________________________________\ndense_13 (Dense)             (None, 84)                10164     \n_________________________________________________________________\ndense_14 (Dense)             (None, 10)                850       \n=================================================================\nTotal params: 61,706\nTrainable params: 61,706\nNon-trainable params: 0\n_________________________________________________________________\nModel: \"le_net_gap\"\n_________________________________________________________________\nLayer (type)                 Output Shape              Param #   \n=================================================================\nconv2d_10 (Conv2D)           (None, 28, 28, 6)         156       \n_________________________________________________________________\naverage_pooling2d_10 (Averag (None, 14, 14, 6)         0         \n_________________________________________________________________\nconv2d_11 (Conv2D)           (None, 10, 10, 16)        2416      \n_________________________________________________________________\naverage_pooling2d_11 (Averag (None, 5, 5, 16)          0         \n_________________________________________________________________\nglobal_max_pooling2d (Global (None, 16)                0         \n_________________________________________________________________\ndense_15 (Dense)             (None, 10)                170       \n=================================================================\nTotal params: 2,742\nTrainable params: 2,742\nNon-trainable params: 0\n_________________________________________________________________\n"
          ]
        }
      ]
    },
    {
      "cell_type": "code",
      "metadata": {
        "id": "xvaBgGgXstnz"
      },
      "source": [
        "# Table\n",
        "model_info = ['LeNet','LeNetReguL2v1','LeNetReguL2v2','LeNetReguL1v1','LeNetReguL1v2', 'LeNetGAP']\n",
        "print('Model\\t\\t\\tTraining Error\\t\\t\\tTest Error\\t\\t\\tSD 0f Test Error\\t\\t\\tInference Time\\t\\t\\tNo. of Parameters')\n",
        "print('-----------------\\t-----------------\\t\\t-----------------\\t\\t-----------------\\t\\t\\t-----------------\\t\\t-----------------')\n",
        "print(str(model_info[0]) + '\\t\\t\\t' + str(model_info_LeNet['TrainingError']) + '\\t\\t' + str(model_info_LeNet['TestError'])+ '\\t\\t' + str(np.std(model_info_LeNet['SDTestError']))+ '\\t\\t\\t' + str(model_info_LeNet['InferenceTime'])+ '\\t\\t' + str(model_info_LeNet['NoofParameters']))\n",
        "print(str(model_info[1]) + '\\t\\t' + str(model_info_LeNetReguL2v1['TrainingError']) + '\\t\\t' + str(model_info_LeNetReguL2v1['TestError'])+ '\\t\\t' + str(np.std(model_info_LeNetReguL2v1['SDTestError']))+ '\\t\\t\\t' + str(model_info_LeNetReguL2v1['InferenceTime'])+ '\\t\\t' + str(model_info_LeNetReguL2v1['NoofParameters']))\n",
        "print(str(model_info[2]) + '\\t\\t' + str(model_info_LeNetReguL2v2['TrainingError']) + '\\t\\t' + str(model_info_LeNetReguL2v2['TestError'])+ '\\t\\t' + str(np.std(model_info_LeNetReguL2v2['SDTestError']))+ '\\t\\t\\t' + str(model_info_LeNetReguL2v2['InferenceTime'])+ '\\t\\t' + str(model_info_LeNetReguL2v2['NoofParameters']))\n",
        "print(str(model_info[3]) + '\\t\\t' + str(model_info_LeNetReguL1v1['TrainingError']) + '\\t\\t' + str(model_info_LeNetReguL1v1['TestError'])+ '\\t\\t' + str(np.std(model_info_LeNetReguL1v1['SDTestError']))+ '\\t\\t\\t' + str(model_info_LeNetReguL1v1['InferenceTime'])+ '\\t\\t' + str(model_info_LeNetReguL1v1['NoofParameters']))\n",
        "print(str(model_info[4]) + '\\t\\t' + str(model_info_LeNetReguL1v2['TrainingError']) + '\\t\\t' + str(model_info_LeNetReguL1v2['TestError'])+ '\\t\\t' + str(np.std(model_info_LeNetReguL1v2['SDTestError']))+ '\\t\\t\\t' + str(model_info_LeNetReguL1v2['InferenceTime'])+ '\\t\\t' + str(model_info_LeNetReguL1v2['NoofParameters']))\n",
        "print(str(model_info[5]) + '\\t\\t' + str(model_info_LeNetGAP['TrainingError']) + '\\t\\t' + str(model_info_LeNetGAP['TestError'])+ '\\t\\t' + str(np.std(model_info_LeNetGAP['SDTestError']))+ '\\t\\t\\t' + str(model_info_LeNetGAP['InferenceTime'])+ '\\t\\t' + str(model_info_LeNetGAP['NoofParameters']))\n"
      ],
      "execution_count": 15,
      "outputs": [
        {
          "output_type": "stream",
          "name": "stdout",
          "text": [
            "Model\t\t\tTraining Error\t\t\tTest Error\t\t\tSD 0f Test Error\t\t\tInference Time\t\t\tNo. of Parameters\n-----------------\t-----------------\t\t-----------------\t\t-----------------\t\t\t-----------------\t\t-----------------\nLeNet\t\t\t0.15851141512393951\t\t0.3083064556121826\t\t0.007505538223938842\t\t\t0.8528482913970947\t\t61706\nLeNetReguL2v1\t\t0.5616891980171204\t\t0.5736199021339417\t\t0.03166930121361471\t\t\t0.878307580947876\t\t61706\nLeNetReguL2v2\t\t0.6731531620025635\t\t0.6875057816505432\t\t0.040464484442225626\t\t\t0.8369247913360596\t\t61706\nLeNetReguL1v1\t\t0.9395244717597961\t\t0.9516729712486267\t\t0.02601441622465937\t\t\t0.8399224281311035\t\t61706\nLeNetReguL1v2\t\t0.9486860632896423\t\t0.9581499099731445\t\t0.025203893592643113\t\t\t0.7941558361053467\t\t61706\nLeNetGAP\t\t0.37653425335884094\t\t0.4078139066696167\t\t0.02924511829714039\t\t\t0.7626855373382568\t\t2742\n"
          ]
        }
      ]
    },
    {
      "cell_type": "markdown",
      "metadata": {
        "id": "wy_o_sKh7shx"
      },
      "source": [
        "**Sparsity of layers**"
      ]
    },
    {
      "cell_type": "code",
      "metadata": {
        "id": "6w_tNfUt7oi7"
      },
      "source": [
        "l5modelLeNet = round(hoyer_index(modelLeNet.layers[5].get_weights()[0]),2)\n",
        "l6modelLeNet = round(hoyer_index(modelLeNet.layers[6].get_weights()[0]),2)\n",
        "\n",
        "l5modelLeNetReguL2v1 = round(hoyer_index(modelLeNetReguL2v1.layers[5].get_weights()[0]),2)\n",
        "l6modelLeNetReguL2v1 = round(hoyer_index(modelLeNetReguL2v1.layers[6].get_weights()[0]),2)\n",
        "\n",
        "l5modelLeNetReguL2v2 = round(hoyer_index(modelLeNetReguL2v2.layers[5].get_weights()[0]),2)\n",
        "l6modelLeNetReguL2v2 = round(hoyer_index(modelLeNetReguL2v2.layers[6].get_weights()[0]),2)\n",
        "\n",
        "l5modelLeNetReguL1v1 = round(hoyer_index(modelLeNetReguL1v1.layers[5].get_weights()[0]),2)\n",
        "l6modelLeNetReguL1v1 = round(hoyer_index(modelLeNetReguL1v1.layers[6].get_weights()[0]),2)\n",
        "\n",
        "l5modelLeNetReguL1v2 = round(hoyer_index(modelLeNetReguL1v2.layers[5].get_weights()[0]),2)\n",
        "l6modelLeNetReguL1v2 = round(hoyer_index(modelLeNetReguL1v2.layers[6].get_weights()[0]),2)\n",
        "\n",
        "print('Sparsity of layer 5 - modelLeNet: {:.2f}'.format(l5modelLeNet))\n",
        "print('Sparsity of layer 6 - modelLeNet: {:.2f}'.format(l6modelLeNet))\n",
        "\n",
        "print('Sparsity of layer 5 - modelLeNetReguL2v1: {:.2f}'.format(l5modelLeNetReguL2v1))\n",
        "print('Sparsity of layer 6 - modelLeNetReguL2v1: {:.2f}'.format(l6modelLeNetReguL2v1))\n",
        "\n",
        "print('Sparsity of layer 5 - modelLeNetReguL2v2: {:.2f}'.format(l5modelLeNetReguL2v2))\n",
        "print('Sparsity of layer 6 - modelLeNetReguL2v2: {:.2f}'.format(l6modelLeNetReguL2v2))\n",
        "\n",
        "print('Sparsity of layer 5 - modelLeNetReguL1v1: {:.2f}'.format(l5modelLeNetReguL1v1))\n",
        "print('Sparsity of layer 6 - modelLeNetReguL1v1: {:.2f}'.format(l6modelLeNetReguL1v1))\n",
        "\n",
        "print('Sparsity of layer 5 - modelLeNetReguL1v2: {:.2f}'.format(l5modelLeNetReguL1v2))\n",
        "print('Sparsity of layer 6 - modelLeNetReguL1v2: {:.2f}'.format(l6modelLeNetReguL1v2))\n",
        "\n",
        "\n",
        "import matplotlib\n",
        "import matplotlib.pyplot as plt\n",
        "import numpy as np\n",
        "\n",
        "labels = ['modelLeNet', 'modelLeNetReguL2v1', 'modelLeNetReguL2v2', 'modelLeNetReguL1v1', 'modelLeNetReguL1v2']\n",
        "layer_5 = [l5modelLeNet, l5modelLeNetReguL2v1, l5modelLeNetReguL2v2, l5modelLeNetReguL1v1, l5modelLeNetReguL1v2]\n",
        "layer_6 = [l6modelLeNet, l6modelLeNetReguL2v1, l6modelLeNetReguL2v2, l6modelLeNetReguL1v1, l6modelLeNetReguL1v2]\n",
        "\n",
        "# locations of the labels\n",
        "x = np.arange(len(labels))\n",
        "# set the width of each element of the group  \n",
        "width = 0.35  \n",
        "\n",
        "fig, ax = plt.subplots()\n",
        "rects1 = ax.bar(x - width/2, layer_5, width, label='Layer 5')\n",
        "rects2 = ax.bar(x + width/2, layer_6, width, label='Layer 6')\n",
        "\n",
        "# Add some text for labels, title and custom x-axis tick labels, etc.\n",
        "ax.set_ylabel('Sparsity')\n",
        "ax.set_title('Sparsity of the FC layers of all models')\n",
        "ax.set_xticks(x)\n",
        "ax.set_xticklabels(labels)\n",
        "ax.legend()\n",
        "\n",
        "def autolabel(rects):\n",
        "    \"\"\"Sparcity above each bar.\"\"\"\n",
        "    for rect in rects:\n",
        "        height = rect.get_height()\n",
        "        ax.annotate('{}'.format(height),\n",
        "                    xy=(rect.get_x() + rect.get_width() / 2, height),\n",
        "                    xytext=(0, 3), \n",
        "                    textcoords=\"offset points\",\n",
        "                    ha='center', va='bottom')\n",
        "\n",
        "\n",
        "autolabel(rects1)\n",
        "autolabel(rects2)\n",
        "fig.tight_layout()\n",
        "plt.xticks(rotation=90)\n",
        "plt.show()\n",
        "\n",
        "# Reference: https://matplotlib.org/3.1.1/gallery/lines_bars_and_markers/barchart.html"
      ],
      "execution_count": 40,
      "outputs": [
        {
          "output_type": "stream",
          "name": "stdout",
          "text": [
            "Sparsity of layer 5 - modelLeNet: 0.26\nSparsity of layer 6 - modelLeNet: 0.23\nSparsity of layer 5 - modelLeNetReguL2v1: 0.84\nSparsity of layer 6 - modelLeNetReguL2v1: 0.79\nSparsity of layer 5 - modelLeNetReguL2v2: 0.89\nSparsity of layer 6 - modelLeNetReguL2v2: 0.80\nSparsity of layer 5 - modelLeNetReguL1v1: 0.96\nSparsity of layer 6 - modelLeNetReguL1v1: 0.95\nSparsity of layer 5 - modelLeNetReguL1v2: 0.96\nSparsity of layer 6 - modelLeNetReguL1v2: 0.95\n"
          ]
        },
        {
          "output_type": "display_data",
          "data": {
            "text/plain": "<Figure size 432x288 with 1 Axes>",
            "image/svg+xml": "<?xml version=\"1.0\" encoding=\"utf-8\" standalone=\"no\"?>\n<!DOCTYPE svg PUBLIC \"-//W3C//DTD SVG 1.1//EN\"\n  \"http://www.w3.org/Graphics/SVG/1.1/DTD/svg11.dtd\">\n<!-- Created with matplotlib (https://matplotlib.org/) -->\n<svg height=\"379.715pt\" version=\"1.1\" viewBox=\"0 0 407.577309 379.715\" width=\"407.577309pt\" xmlns=\"http://www.w3.org/2000/svg\" xmlns:xlink=\"http://www.w3.org/1999/xlink\">\n <defs>\n  <style type=\"text/css\">\n*{stroke-linecap:butt;stroke-linejoin:round;}\n  </style>\n </defs>\n <g id=\"figure_1\">\n  <g id=\"patch_1\">\n   <path d=\"M 0 379.715 \nL 407.577309 379.715 \nL 407.577309 0 \nL 0 0 \nz\n\" style=\"fill:none;\"/>\n  </g>\n  <g id=\"axes_1\">\n   <g id=\"patch_2\">\n    <path d=\"M 43.78125 255.718125 \nL 400.377309 255.718125 \nL 400.377309 22.318125 \nL 43.78125 22.318125 \nz\n\" style=\"fill:#ffffff;\"/>\n   </g>\n   <g id=\"patch_3\">\n    <path clip-path=\"url(#p44204ecd8d)\" d=\"M 59.990162 255.718125 \nL 84.131094 255.718125 \nL 84.131094 195.515744 \nL 59.990162 195.515744 \nz\n\" style=\"fill:#1f77b4;\"/>\n   </g>\n   <g id=\"patch_4\">\n    <path clip-path=\"url(#p44204ecd8d)\" d=\"M 128.964254 255.718125 \nL 153.105187 255.718125 \nL 153.105187 61.218125 \nL 128.964254 61.218125 \nz\n\" style=\"fill:#1f77b4;\"/>\n   </g>\n   <g id=\"patch_5\">\n    <path clip-path=\"url(#p44204ecd8d)\" d=\"M 197.938347 255.718125 \nL 222.079279 255.718125 \nL 222.079279 49.640744 \nL 197.938347 49.640744 \nz\n\" style=\"fill:#1f77b4;\"/>\n   </g>\n   <g id=\"patch_6\">\n    <path clip-path=\"url(#p44204ecd8d)\" d=\"M 266.91244 255.718125 \nL 291.053372 255.718125 \nL 291.053372 33.432411 \nL 266.91244 33.432411 \nz\n\" style=\"fill:#1f77b4;\"/>\n   </g>\n   <g id=\"patch_7\">\n    <path clip-path=\"url(#p44204ecd8d)\" d=\"M 335.886532 255.718125 \nL 360.027465 255.718125 \nL 360.027465 33.432411 \nL 335.886532 33.432411 \nz\n\" style=\"fill:#1f77b4;\"/>\n   </g>\n   <g id=\"patch_8\">\n    <path clip-path=\"url(#p44204ecd8d)\" d=\"M 84.131094 255.718125 \nL 108.272027 255.718125 \nL 108.272027 202.462173 \nL 84.131094 202.462173 \nz\n\" style=\"fill:#ff7f0e;\"/>\n   </g>\n   <g id=\"patch_9\">\n    <path clip-path=\"url(#p44204ecd8d)\" d=\"M 153.105187 255.718125 \nL 177.246119 255.718125 \nL 177.246119 72.795506 \nL 153.105187 72.795506 \nz\n\" style=\"fill:#ff7f0e;\"/>\n   </g>\n   <g id=\"patch_10\">\n    <path clip-path=\"url(#p44204ecd8d)\" d=\"M 222.079279 255.718125 \nL 246.220212 255.718125 \nL 246.220212 70.48003 \nL 222.079279 70.48003 \nz\n\" style=\"fill:#ff7f0e;\"/>\n   </g>\n   <g id=\"patch_11\">\n    <path clip-path=\"url(#p44204ecd8d)\" d=\"M 291.053372 255.718125 \nL 315.194305 255.718125 \nL 315.194305 35.747887 \nL 291.053372 35.747887 \nz\n\" style=\"fill:#ff7f0e;\"/>\n   </g>\n   <g id=\"patch_12\">\n    <path clip-path=\"url(#p44204ecd8d)\" d=\"M 360.027465 255.718125 \nL 384.168397 255.718125 \nL 384.168397 35.747887 \nL 360.027465 35.747887 \nz\n\" style=\"fill:#ff7f0e;\"/>\n   </g>\n   <g id=\"matplotlib.axis_1\">\n    <g id=\"xtick_1\">\n     <g id=\"line2d_1\">\n      <defs>\n       <path d=\"M 0 0 \nL 0 3.5 \n\" id=\"mca23a0039a\" style=\"stroke:#000000;stroke-width:0.8;\"/>\n      </defs>\n      <g>\n       <use style=\"stroke:#000000;stroke-width:0.8;\" x=\"84.131094\" xlink:href=\"#mca23a0039a\" y=\"255.718125\"/>\n      </g>\n     </g>\n     <g id=\"text_1\">\n      <!-- modelLeNet -->\n      <defs>\n       <path d=\"M 52 44.1875 \nQ 55.375 50.25 60.0625 53.125 \nQ 64.75 56 71.09375 56 \nQ 79.640625 56 84.28125 50.015625 \nQ 88.921875 44.046875 88.921875 33.015625 \nL 88.921875 0 \nL 79.890625 0 \nL 79.890625 32.71875 \nQ 79.890625 40.578125 77.09375 44.375 \nQ 74.3125 48.1875 68.609375 48.1875 \nQ 61.625 48.1875 57.5625 43.546875 \nQ 53.515625 38.921875 53.515625 30.90625 \nL 53.515625 0 \nL 44.484375 0 \nL 44.484375 32.71875 \nQ 44.484375 40.625 41.703125 44.40625 \nQ 38.921875 48.1875 33.109375 48.1875 \nQ 26.21875 48.1875 22.15625 43.53125 \nQ 18.109375 38.875 18.109375 30.90625 \nL 18.109375 0 \nL 9.078125 0 \nL 9.078125 54.6875 \nL 18.109375 54.6875 \nL 18.109375 46.1875 \nQ 21.1875 51.21875 25.484375 53.609375 \nQ 29.78125 56 35.6875 56 \nQ 41.65625 56 45.828125 52.96875 \nQ 50 49.953125 52 44.1875 \nz\n\" id=\"DejaVuSans-109\"/>\n       <path d=\"M 30.609375 48.390625 \nQ 23.390625 48.390625 19.1875 42.75 \nQ 14.984375 37.109375 14.984375 27.296875 \nQ 14.984375 17.484375 19.15625 11.84375 \nQ 23.34375 6.203125 30.609375 6.203125 \nQ 37.796875 6.203125 41.984375 11.859375 \nQ 46.1875 17.53125 46.1875 27.296875 \nQ 46.1875 37.015625 41.984375 42.703125 \nQ 37.796875 48.390625 30.609375 48.390625 \nz\nM 30.609375 56 \nQ 42.328125 56 49.015625 48.375 \nQ 55.71875 40.765625 55.71875 27.296875 \nQ 55.71875 13.875 49.015625 6.21875 \nQ 42.328125 -1.421875 30.609375 -1.421875 \nQ 18.84375 -1.421875 12.171875 6.21875 \nQ 5.515625 13.875 5.515625 27.296875 \nQ 5.515625 40.765625 12.171875 48.375 \nQ 18.84375 56 30.609375 56 \nz\n\" id=\"DejaVuSans-111\"/>\n       <path d=\"M 45.40625 46.390625 \nL 45.40625 75.984375 \nL 54.390625 75.984375 \nL 54.390625 0 \nL 45.40625 0 \nL 45.40625 8.203125 \nQ 42.578125 3.328125 38.25 0.953125 \nQ 33.9375 -1.421875 27.875 -1.421875 \nQ 17.96875 -1.421875 11.734375 6.484375 \nQ 5.515625 14.40625 5.515625 27.296875 \nQ 5.515625 40.1875 11.734375 48.09375 \nQ 17.96875 56 27.875 56 \nQ 33.9375 56 38.25 53.625 \nQ 42.578125 51.265625 45.40625 46.390625 \nz\nM 14.796875 27.296875 \nQ 14.796875 17.390625 18.875 11.75 \nQ 22.953125 6.109375 30.078125 6.109375 \nQ 37.203125 6.109375 41.296875 11.75 \nQ 45.40625 17.390625 45.40625 27.296875 \nQ 45.40625 37.203125 41.296875 42.84375 \nQ 37.203125 48.484375 30.078125 48.484375 \nQ 22.953125 48.484375 18.875 42.84375 \nQ 14.796875 37.203125 14.796875 27.296875 \nz\n\" id=\"DejaVuSans-100\"/>\n       <path d=\"M 56.203125 29.59375 \nL 56.203125 25.203125 \nL 14.890625 25.203125 \nQ 15.484375 15.921875 20.484375 11.0625 \nQ 25.484375 6.203125 34.421875 6.203125 \nQ 39.59375 6.203125 44.453125 7.46875 \nQ 49.3125 8.734375 54.109375 11.28125 \nL 54.109375 2.78125 \nQ 49.265625 0.734375 44.1875 -0.34375 \nQ 39.109375 -1.421875 33.890625 -1.421875 \nQ 20.796875 -1.421875 13.15625 6.1875 \nQ 5.515625 13.8125 5.515625 26.8125 \nQ 5.515625 40.234375 12.765625 48.109375 \nQ 20.015625 56 32.328125 56 \nQ 43.359375 56 49.78125 48.890625 \nQ 56.203125 41.796875 56.203125 29.59375 \nz\nM 47.21875 32.234375 \nQ 47.125 39.59375 43.09375 43.984375 \nQ 39.0625 48.390625 32.421875 48.390625 \nQ 24.90625 48.390625 20.390625 44.140625 \nQ 15.875 39.890625 15.1875 32.171875 \nz\n\" id=\"DejaVuSans-101\"/>\n       <path d=\"M 9.421875 75.984375 \nL 18.40625 75.984375 \nL 18.40625 0 \nL 9.421875 0 \nz\n\" id=\"DejaVuSans-108\"/>\n       <path d=\"M 9.8125 72.90625 \nL 19.671875 72.90625 \nL 19.671875 8.296875 \nL 55.171875 8.296875 \nL 55.171875 0 \nL 9.8125 0 \nz\n\" id=\"DejaVuSans-76\"/>\n       <path d=\"M 9.8125 72.90625 \nL 23.09375 72.90625 \nL 55.421875 11.921875 \nL 55.421875 72.90625 \nL 64.984375 72.90625 \nL 64.984375 0 \nL 51.703125 0 \nL 19.390625 60.984375 \nL 19.390625 0 \nL 9.8125 0 \nz\n\" id=\"DejaVuSans-78\"/>\n       <path d=\"M 18.3125 70.21875 \nL 18.3125 54.6875 \nL 36.8125 54.6875 \nL 36.8125 47.703125 \nL 18.3125 47.703125 \nL 18.3125 18.015625 \nQ 18.3125 11.328125 20.140625 9.421875 \nQ 21.96875 7.515625 27.59375 7.515625 \nL 36.8125 7.515625 \nL 36.8125 0 \nL 27.59375 0 \nQ 17.1875 0 13.234375 3.875 \nQ 9.28125 7.765625 9.28125 18.015625 \nL 9.28125 47.703125 \nL 2.6875 47.703125 \nL 2.6875 54.6875 \nL 9.28125 54.6875 \nL 9.28125 70.21875 \nz\n\" id=\"DejaVuSans-116\"/>\n      </defs>\n      <g transform=\"translate(86.890469 322.961875)rotate(-90)scale(0.1 -0.1)\">\n       <use xlink:href=\"#DejaVuSans-109\"/>\n       <use x=\"97.412109\" xlink:href=\"#DejaVuSans-111\"/>\n       <use x=\"158.59375\" xlink:href=\"#DejaVuSans-100\"/>\n       <use x=\"222.070312\" xlink:href=\"#DejaVuSans-101\"/>\n       <use x=\"283.59375\" xlink:href=\"#DejaVuSans-108\"/>\n       <use x=\"311.376953\" xlink:href=\"#DejaVuSans-76\"/>\n       <use x=\"365.339844\" xlink:href=\"#DejaVuSans-101\"/>\n       <use x=\"426.863281\" xlink:href=\"#DejaVuSans-78\"/>\n       <use x=\"501.667969\" xlink:href=\"#DejaVuSans-101\"/>\n       <use x=\"563.191406\" xlink:href=\"#DejaVuSans-116\"/>\n      </g>\n     </g>\n    </g>\n    <g id=\"xtick_2\">\n     <g id=\"line2d_2\">\n      <g>\n       <use style=\"stroke:#000000;stroke-width:0.8;\" x=\"153.105187\" xlink:href=\"#mca23a0039a\" y=\"255.718125\"/>\n      </g>\n     </g>\n     <g id=\"text_2\">\n      <!-- modelLeNetReguL2v1 -->\n      <defs>\n       <path d=\"M 44.390625 34.1875 \nQ 47.5625 33.109375 50.5625 29.59375 \nQ 53.5625 26.078125 56.59375 19.921875 \nL 66.609375 0 \nL 56 0 \nL 46.6875 18.703125 \nQ 43.0625 26.03125 39.671875 28.421875 \nQ 36.28125 30.8125 30.421875 30.8125 \nL 19.671875 30.8125 \nL 19.671875 0 \nL 9.8125 0 \nL 9.8125 72.90625 \nL 32.078125 72.90625 \nQ 44.578125 72.90625 50.734375 67.671875 \nQ 56.890625 62.453125 56.890625 51.90625 \nQ 56.890625 45.015625 53.6875 40.46875 \nQ 50.484375 35.9375 44.390625 34.1875 \nz\nM 19.671875 64.796875 \nL 19.671875 38.921875 \nL 32.078125 38.921875 \nQ 39.203125 38.921875 42.84375 42.21875 \nQ 46.484375 45.515625 46.484375 51.90625 \nQ 46.484375 58.296875 42.84375 61.546875 \nQ 39.203125 64.796875 32.078125 64.796875 \nz\n\" id=\"DejaVuSans-82\"/>\n       <path d=\"M 45.40625 27.984375 \nQ 45.40625 37.75 41.375 43.109375 \nQ 37.359375 48.484375 30.078125 48.484375 \nQ 22.859375 48.484375 18.828125 43.109375 \nQ 14.796875 37.75 14.796875 27.984375 \nQ 14.796875 18.265625 18.828125 12.890625 \nQ 22.859375 7.515625 30.078125 7.515625 \nQ 37.359375 7.515625 41.375 12.890625 \nQ 45.40625 18.265625 45.40625 27.984375 \nz\nM 54.390625 6.78125 \nQ 54.390625 -7.171875 48.1875 -13.984375 \nQ 42 -20.796875 29.203125 -20.796875 \nQ 24.46875 -20.796875 20.265625 -20.09375 \nQ 16.0625 -19.390625 12.109375 -17.921875 \nL 12.109375 -9.1875 \nQ 16.0625 -11.328125 19.921875 -12.34375 \nQ 23.78125 -13.375 27.78125 -13.375 \nQ 36.625 -13.375 41.015625 -8.765625 \nQ 45.40625 -4.15625 45.40625 5.171875 \nL 45.40625 9.625 \nQ 42.625 4.78125 38.28125 2.390625 \nQ 33.9375 0 27.875 0 \nQ 17.828125 0 11.671875 7.65625 \nQ 5.515625 15.328125 5.515625 27.984375 \nQ 5.515625 40.671875 11.671875 48.328125 \nQ 17.828125 56 27.875 56 \nQ 33.9375 56 38.28125 53.609375 \nQ 42.625 51.21875 45.40625 46.390625 \nL 45.40625 54.6875 \nL 54.390625 54.6875 \nz\n\" id=\"DejaVuSans-103\"/>\n       <path d=\"M 8.5 21.578125 \nL 8.5 54.6875 \nL 17.484375 54.6875 \nL 17.484375 21.921875 \nQ 17.484375 14.15625 20.5 10.265625 \nQ 23.53125 6.390625 29.59375 6.390625 \nQ 36.859375 6.390625 41.078125 11.03125 \nQ 45.3125 15.671875 45.3125 23.6875 \nL 45.3125 54.6875 \nL 54.296875 54.6875 \nL 54.296875 0 \nL 45.3125 0 \nL 45.3125 8.40625 \nQ 42.046875 3.421875 37.71875 1 \nQ 33.40625 -1.421875 27.6875 -1.421875 \nQ 18.265625 -1.421875 13.375 4.4375 \nQ 8.5 10.296875 8.5 21.578125 \nz\nM 31.109375 56 \nz\n\" id=\"DejaVuSans-117\"/>\n       <path d=\"M 19.1875 8.296875 \nL 53.609375 8.296875 \nL 53.609375 0 \nL 7.328125 0 \nL 7.328125 8.296875 \nQ 12.9375 14.109375 22.625 23.890625 \nQ 32.328125 33.6875 34.8125 36.53125 \nQ 39.546875 41.84375 41.421875 45.53125 \nQ 43.3125 49.21875 43.3125 52.78125 \nQ 43.3125 58.59375 39.234375 62.25 \nQ 35.15625 65.921875 28.609375 65.921875 \nQ 23.96875 65.921875 18.8125 64.3125 \nQ 13.671875 62.703125 7.8125 59.421875 \nL 7.8125 69.390625 \nQ 13.765625 71.78125 18.9375 73 \nQ 24.125 74.21875 28.421875 74.21875 \nQ 39.75 74.21875 46.484375 68.546875 \nQ 53.21875 62.890625 53.21875 53.421875 \nQ 53.21875 48.921875 51.53125 44.890625 \nQ 49.859375 40.875 45.40625 35.40625 \nQ 44.1875 33.984375 37.640625 27.21875 \nQ 31.109375 20.453125 19.1875 8.296875 \nz\n\" id=\"DejaVuSans-50\"/>\n       <path d=\"M 2.984375 54.6875 \nL 12.5 54.6875 \nL 29.59375 8.796875 \nL 46.6875 54.6875 \nL 56.203125 54.6875 \nL 35.6875 0 \nL 23.484375 0 \nz\n\" id=\"DejaVuSans-118\"/>\n       <path d=\"M 12.40625 8.296875 \nL 28.515625 8.296875 \nL 28.515625 63.921875 \nL 10.984375 60.40625 \nL 10.984375 69.390625 \nL 28.421875 72.90625 \nL 38.28125 72.90625 \nL 38.28125 8.296875 \nL 54.390625 8.296875 \nL 54.390625 0 \nL 12.40625 0 \nz\n\" id=\"DejaVuSans-49\"/>\n      </defs>\n      <g transform=\"translate(155.864562 372.515)rotate(-90)scale(0.1 -0.1)\">\n       <use xlink:href=\"#DejaVuSans-109\"/>\n       <use x=\"97.412109\" xlink:href=\"#DejaVuSans-111\"/>\n       <use x=\"158.59375\" xlink:href=\"#DejaVuSans-100\"/>\n       <use x=\"222.070312\" xlink:href=\"#DejaVuSans-101\"/>\n       <use x=\"283.59375\" xlink:href=\"#DejaVuSans-108\"/>\n       <use x=\"311.376953\" xlink:href=\"#DejaVuSans-76\"/>\n       <use x=\"365.339844\" xlink:href=\"#DejaVuSans-101\"/>\n       <use x=\"426.863281\" xlink:href=\"#DejaVuSans-78\"/>\n       <use x=\"501.667969\" xlink:href=\"#DejaVuSans-101\"/>\n       <use x=\"563.191406\" xlink:href=\"#DejaVuSans-116\"/>\n       <use x=\"602.400391\" xlink:href=\"#DejaVuSans-82\"/>\n       <use x=\"667.382812\" xlink:href=\"#DejaVuSans-101\"/>\n       <use x=\"728.90625\" xlink:href=\"#DejaVuSans-103\"/>\n       <use x=\"792.382812\" xlink:href=\"#DejaVuSans-117\"/>\n       <use x=\"855.761719\" xlink:href=\"#DejaVuSans-76\"/>\n       <use x=\"911.474609\" xlink:href=\"#DejaVuSans-50\"/>\n       <use x=\"975.097656\" xlink:href=\"#DejaVuSans-118\"/>\n       <use x=\"1034.277344\" xlink:href=\"#DejaVuSans-49\"/>\n      </g>\n     </g>\n    </g>\n    <g id=\"xtick_3\">\n     <g id=\"line2d_3\">\n      <g>\n       <use style=\"stroke:#000000;stroke-width:0.8;\" x=\"222.079279\" xlink:href=\"#mca23a0039a\" y=\"255.718125\"/>\n      </g>\n     </g>\n     <g id=\"text_3\">\n      <!-- modelLeNetReguL2v2 -->\n      <g transform=\"translate(224.838654 372.515)rotate(-90)scale(0.1 -0.1)\">\n       <use xlink:href=\"#DejaVuSans-109\"/>\n       <use x=\"97.412109\" xlink:href=\"#DejaVuSans-111\"/>\n       <use x=\"158.59375\" xlink:href=\"#DejaVuSans-100\"/>\n       <use x=\"222.070312\" xlink:href=\"#DejaVuSans-101\"/>\n       <use x=\"283.59375\" xlink:href=\"#DejaVuSans-108\"/>\n       <use x=\"311.376953\" xlink:href=\"#DejaVuSans-76\"/>\n       <use x=\"365.339844\" xlink:href=\"#DejaVuSans-101\"/>\n       <use x=\"426.863281\" xlink:href=\"#DejaVuSans-78\"/>\n       <use x=\"501.667969\" xlink:href=\"#DejaVuSans-101\"/>\n       <use x=\"563.191406\" xlink:href=\"#DejaVuSans-116\"/>\n       <use x=\"602.400391\" xlink:href=\"#DejaVuSans-82\"/>\n       <use x=\"667.382812\" xlink:href=\"#DejaVuSans-101\"/>\n       <use x=\"728.90625\" xlink:href=\"#DejaVuSans-103\"/>\n       <use x=\"792.382812\" xlink:href=\"#DejaVuSans-117\"/>\n       <use x=\"855.761719\" xlink:href=\"#DejaVuSans-76\"/>\n       <use x=\"911.474609\" xlink:href=\"#DejaVuSans-50\"/>\n       <use x=\"975.097656\" xlink:href=\"#DejaVuSans-118\"/>\n       <use x=\"1034.277344\" xlink:href=\"#DejaVuSans-50\"/>\n      </g>\n     </g>\n    </g>\n    <g id=\"xtick_4\">\n     <g id=\"line2d_4\">\n      <g>\n       <use style=\"stroke:#000000;stroke-width:0.8;\" x=\"291.053372\" xlink:href=\"#mca23a0039a\" y=\"255.718125\"/>\n      </g>\n     </g>\n     <g id=\"text_4\">\n      <!-- modelLeNetReguL1v1 -->\n      <g transform=\"translate(293.812747 372.515)rotate(-90)scale(0.1 -0.1)\">\n       <use xlink:href=\"#DejaVuSans-109\"/>\n       <use x=\"97.412109\" xlink:href=\"#DejaVuSans-111\"/>\n       <use x=\"158.59375\" xlink:href=\"#DejaVuSans-100\"/>\n       <use x=\"222.070312\" xlink:href=\"#DejaVuSans-101\"/>\n       <use x=\"283.59375\" xlink:href=\"#DejaVuSans-108\"/>\n       <use x=\"311.376953\" xlink:href=\"#DejaVuSans-76\"/>\n       <use x=\"365.339844\" xlink:href=\"#DejaVuSans-101\"/>\n       <use x=\"426.863281\" xlink:href=\"#DejaVuSans-78\"/>\n       <use x=\"501.667969\" xlink:href=\"#DejaVuSans-101\"/>\n       <use x=\"563.191406\" xlink:href=\"#DejaVuSans-116\"/>\n       <use x=\"602.400391\" xlink:href=\"#DejaVuSans-82\"/>\n       <use x=\"667.382812\" xlink:href=\"#DejaVuSans-101\"/>\n       <use x=\"728.90625\" xlink:href=\"#DejaVuSans-103\"/>\n       <use x=\"792.382812\" xlink:href=\"#DejaVuSans-117\"/>\n       <use x=\"855.761719\" xlink:href=\"#DejaVuSans-76\"/>\n       <use x=\"911.474609\" xlink:href=\"#DejaVuSans-49\"/>\n       <use x=\"975.097656\" xlink:href=\"#DejaVuSans-118\"/>\n       <use x=\"1034.277344\" xlink:href=\"#DejaVuSans-49\"/>\n      </g>\n     </g>\n    </g>\n    <g id=\"xtick_5\">\n     <g id=\"line2d_5\">\n      <g>\n       <use style=\"stroke:#000000;stroke-width:0.8;\" x=\"360.027465\" xlink:href=\"#mca23a0039a\" y=\"255.718125\"/>\n      </g>\n     </g>\n     <g id=\"text_5\">\n      <!-- modelLeNetReguL1v2 -->\n      <g transform=\"translate(362.78684 372.515)rotate(-90)scale(0.1 -0.1)\">\n       <use xlink:href=\"#DejaVuSans-109\"/>\n       <use x=\"97.412109\" xlink:href=\"#DejaVuSans-111\"/>\n       <use x=\"158.59375\" xlink:href=\"#DejaVuSans-100\"/>\n       <use x=\"222.070312\" xlink:href=\"#DejaVuSans-101\"/>\n       <use x=\"283.59375\" xlink:href=\"#DejaVuSans-108\"/>\n       <use x=\"311.376953\" xlink:href=\"#DejaVuSans-76\"/>\n       <use x=\"365.339844\" xlink:href=\"#DejaVuSans-101\"/>\n       <use x=\"426.863281\" xlink:href=\"#DejaVuSans-78\"/>\n       <use x=\"501.667969\" xlink:href=\"#DejaVuSans-101\"/>\n       <use x=\"563.191406\" xlink:href=\"#DejaVuSans-116\"/>\n       <use x=\"602.400391\" xlink:href=\"#DejaVuSans-82\"/>\n       <use x=\"667.382812\" xlink:href=\"#DejaVuSans-101\"/>\n       <use x=\"728.90625\" xlink:href=\"#DejaVuSans-103\"/>\n       <use x=\"792.382812\" xlink:href=\"#DejaVuSans-117\"/>\n       <use x=\"855.761719\" xlink:href=\"#DejaVuSans-76\"/>\n       <use x=\"911.474609\" xlink:href=\"#DejaVuSans-49\"/>\n       <use x=\"975.097656\" xlink:href=\"#DejaVuSans-118\"/>\n       <use x=\"1034.277344\" xlink:href=\"#DejaVuSans-50\"/>\n      </g>\n     </g>\n    </g>\n   </g>\n   <g id=\"matplotlib.axis_2\">\n    <g id=\"ytick_1\">\n     <g id=\"line2d_6\">\n      <defs>\n       <path d=\"M 0 0 \nL -3.5 0 \n\" id=\"mf7bcb0ba7a\" style=\"stroke:#000000;stroke-width:0.8;\"/>\n      </defs>\n      <g>\n       <use style=\"stroke:#000000;stroke-width:0.8;\" x=\"43.78125\" xlink:href=\"#mf7bcb0ba7a\" y=\"255.718125\"/>\n      </g>\n     </g>\n     <g id=\"text_6\">\n      <!-- 0.0 -->\n      <defs>\n       <path d=\"M 31.78125 66.40625 \nQ 24.171875 66.40625 20.328125 58.90625 \nQ 16.5 51.421875 16.5 36.375 \nQ 16.5 21.390625 20.328125 13.890625 \nQ 24.171875 6.390625 31.78125 6.390625 \nQ 39.453125 6.390625 43.28125 13.890625 \nQ 47.125 21.390625 47.125 36.375 \nQ 47.125 51.421875 43.28125 58.90625 \nQ 39.453125 66.40625 31.78125 66.40625 \nz\nM 31.78125 74.21875 \nQ 44.046875 74.21875 50.515625 64.515625 \nQ 56.984375 54.828125 56.984375 36.375 \nQ 56.984375 17.96875 50.515625 8.265625 \nQ 44.046875 -1.421875 31.78125 -1.421875 \nQ 19.53125 -1.421875 13.0625 8.265625 \nQ 6.59375 17.96875 6.59375 36.375 \nQ 6.59375 54.828125 13.0625 64.515625 \nQ 19.53125 74.21875 31.78125 74.21875 \nz\n\" id=\"DejaVuSans-48\"/>\n       <path d=\"M 10.6875 12.40625 \nL 21 12.40625 \nL 21 0 \nL 10.6875 0 \nz\n\" id=\"DejaVuSans-46\"/>\n      </defs>\n      <g transform=\"translate(20.878125 259.517344)scale(0.1 -0.1)\">\n       <use xlink:href=\"#DejaVuSans-48\"/>\n       <use x=\"63.623047\" xlink:href=\"#DejaVuSans-46\"/>\n       <use x=\"95.410156\" xlink:href=\"#DejaVuSans-48\"/>\n      </g>\n     </g>\n    </g>\n    <g id=\"ytick_2\">\n     <g id=\"line2d_7\">\n      <g>\n       <use style=\"stroke:#000000;stroke-width:0.8;\" x=\"43.78125\" xlink:href=\"#mf7bcb0ba7a\" y=\"209.408601\"/>\n      </g>\n     </g>\n     <g id=\"text_7\">\n      <!-- 0.2 -->\n      <g transform=\"translate(20.878125 213.20782)scale(0.1 -0.1)\">\n       <use xlink:href=\"#DejaVuSans-48\"/>\n       <use x=\"63.623047\" xlink:href=\"#DejaVuSans-46\"/>\n       <use x=\"95.410156\" xlink:href=\"#DejaVuSans-50\"/>\n      </g>\n     </g>\n    </g>\n    <g id=\"ytick_3\">\n     <g id=\"line2d_8\">\n      <g>\n       <use style=\"stroke:#000000;stroke-width:0.8;\" x=\"43.78125\" xlink:href=\"#mf7bcb0ba7a\" y=\"163.099077\"/>\n      </g>\n     </g>\n     <g id=\"text_8\">\n      <!-- 0.4 -->\n      <defs>\n       <path d=\"M 37.796875 64.3125 \nL 12.890625 25.390625 \nL 37.796875 25.390625 \nz\nM 35.203125 72.90625 \nL 47.609375 72.90625 \nL 47.609375 25.390625 \nL 58.015625 25.390625 \nL 58.015625 17.1875 \nL 47.609375 17.1875 \nL 47.609375 0 \nL 37.796875 0 \nL 37.796875 17.1875 \nL 4.890625 17.1875 \nL 4.890625 26.703125 \nz\n\" id=\"DejaVuSans-52\"/>\n      </defs>\n      <g transform=\"translate(20.878125 166.898296)scale(0.1 -0.1)\">\n       <use xlink:href=\"#DejaVuSans-48\"/>\n       <use x=\"63.623047\" xlink:href=\"#DejaVuSans-46\"/>\n       <use x=\"95.410156\" xlink:href=\"#DejaVuSans-52\"/>\n      </g>\n     </g>\n    </g>\n    <g id=\"ytick_4\">\n     <g id=\"line2d_9\">\n      <g>\n       <use style=\"stroke:#000000;stroke-width:0.8;\" x=\"43.78125\" xlink:href=\"#mf7bcb0ba7a\" y=\"116.789554\"/>\n      </g>\n     </g>\n     <g id=\"text_9\">\n      <!-- 0.6 -->\n      <defs>\n       <path d=\"M 33.015625 40.375 \nQ 26.375 40.375 22.484375 35.828125 \nQ 18.609375 31.296875 18.609375 23.390625 \nQ 18.609375 15.53125 22.484375 10.953125 \nQ 26.375 6.390625 33.015625 6.390625 \nQ 39.65625 6.390625 43.53125 10.953125 \nQ 47.40625 15.53125 47.40625 23.390625 \nQ 47.40625 31.296875 43.53125 35.828125 \nQ 39.65625 40.375 33.015625 40.375 \nz\nM 52.59375 71.296875 \nL 52.59375 62.3125 \nQ 48.875 64.0625 45.09375 64.984375 \nQ 41.3125 65.921875 37.59375 65.921875 \nQ 27.828125 65.921875 22.671875 59.328125 \nQ 17.53125 52.734375 16.796875 39.40625 \nQ 19.671875 43.65625 24.015625 45.921875 \nQ 28.375 48.1875 33.59375 48.1875 \nQ 44.578125 48.1875 50.953125 41.515625 \nQ 57.328125 34.859375 57.328125 23.390625 \nQ 57.328125 12.15625 50.6875 5.359375 \nQ 44.046875 -1.421875 33.015625 -1.421875 \nQ 20.359375 -1.421875 13.671875 8.265625 \nQ 6.984375 17.96875 6.984375 36.375 \nQ 6.984375 53.65625 15.1875 63.9375 \nQ 23.390625 74.21875 37.203125 74.21875 \nQ 40.921875 74.21875 44.703125 73.484375 \nQ 48.484375 72.75 52.59375 71.296875 \nz\n\" id=\"DejaVuSans-54\"/>\n      </defs>\n      <g transform=\"translate(20.878125 120.588772)scale(0.1 -0.1)\">\n       <use xlink:href=\"#DejaVuSans-48\"/>\n       <use x=\"63.623047\" xlink:href=\"#DejaVuSans-46\"/>\n       <use x=\"95.410156\" xlink:href=\"#DejaVuSans-54\"/>\n      </g>\n     </g>\n    </g>\n    <g id=\"ytick_5\">\n     <g id=\"line2d_10\">\n      <g>\n       <use style=\"stroke:#000000;stroke-width:0.8;\" x=\"43.78125\" xlink:href=\"#mf7bcb0ba7a\" y=\"70.48003\"/>\n      </g>\n     </g>\n     <g id=\"text_10\">\n      <!-- 0.8 -->\n      <defs>\n       <path d=\"M 31.78125 34.625 \nQ 24.75 34.625 20.71875 30.859375 \nQ 16.703125 27.09375 16.703125 20.515625 \nQ 16.703125 13.921875 20.71875 10.15625 \nQ 24.75 6.390625 31.78125 6.390625 \nQ 38.8125 6.390625 42.859375 10.171875 \nQ 46.921875 13.96875 46.921875 20.515625 \nQ 46.921875 27.09375 42.890625 30.859375 \nQ 38.875 34.625 31.78125 34.625 \nz\nM 21.921875 38.8125 \nQ 15.578125 40.375 12.03125 44.71875 \nQ 8.5 49.078125 8.5 55.328125 \nQ 8.5 64.0625 14.71875 69.140625 \nQ 20.953125 74.21875 31.78125 74.21875 \nQ 42.671875 74.21875 48.875 69.140625 \nQ 55.078125 64.0625 55.078125 55.328125 \nQ 55.078125 49.078125 51.53125 44.71875 \nQ 48 40.375 41.703125 38.8125 \nQ 48.828125 37.15625 52.796875 32.3125 \nQ 56.78125 27.484375 56.78125 20.515625 \nQ 56.78125 9.90625 50.3125 4.234375 \nQ 43.84375 -1.421875 31.78125 -1.421875 \nQ 19.734375 -1.421875 13.25 4.234375 \nQ 6.78125 9.90625 6.78125 20.515625 \nQ 6.78125 27.484375 10.78125 32.3125 \nQ 14.796875 37.15625 21.921875 38.8125 \nz\nM 18.3125 54.390625 \nQ 18.3125 48.734375 21.84375 45.5625 \nQ 25.390625 42.390625 31.78125 42.390625 \nQ 38.140625 42.390625 41.71875 45.5625 \nQ 45.3125 48.734375 45.3125 54.390625 \nQ 45.3125 60.0625 41.71875 63.234375 \nQ 38.140625 66.40625 31.78125 66.40625 \nQ 25.390625 66.40625 21.84375 63.234375 \nQ 18.3125 60.0625 18.3125 54.390625 \nz\n\" id=\"DejaVuSans-56\"/>\n      </defs>\n      <g transform=\"translate(20.878125 74.279249)scale(0.1 -0.1)\">\n       <use xlink:href=\"#DejaVuSans-48\"/>\n       <use x=\"63.623047\" xlink:href=\"#DejaVuSans-46\"/>\n       <use x=\"95.410156\" xlink:href=\"#DejaVuSans-56\"/>\n      </g>\n     </g>\n    </g>\n    <g id=\"ytick_6\">\n     <g id=\"line2d_11\">\n      <g>\n       <use style=\"stroke:#000000;stroke-width:0.8;\" x=\"43.78125\" xlink:href=\"#mf7bcb0ba7a\" y=\"24.170506\"/>\n      </g>\n     </g>\n     <g id=\"text_11\">\n      <!-- 1.0 -->\n      <g transform=\"translate(20.878125 27.969725)scale(0.1 -0.1)\">\n       <use xlink:href=\"#DejaVuSans-49\"/>\n       <use x=\"63.623047\" xlink:href=\"#DejaVuSans-46\"/>\n       <use x=\"95.410156\" xlink:href=\"#DejaVuSans-48\"/>\n      </g>\n     </g>\n    </g>\n    <g id=\"text_12\">\n     <!-- Sparsity -->\n     <defs>\n      <path d=\"M 53.515625 70.515625 \nL 53.515625 60.890625 \nQ 47.90625 63.578125 42.921875 64.890625 \nQ 37.9375 66.21875 33.296875 66.21875 \nQ 25.25 66.21875 20.875 63.09375 \nQ 16.5 59.96875 16.5 54.203125 \nQ 16.5 49.359375 19.40625 46.890625 \nQ 22.3125 44.4375 30.421875 42.921875 \nL 36.375 41.703125 \nQ 47.40625 39.59375 52.65625 34.296875 \nQ 57.90625 29 57.90625 20.125 \nQ 57.90625 9.515625 50.796875 4.046875 \nQ 43.703125 -1.421875 29.984375 -1.421875 \nQ 24.8125 -1.421875 18.96875 -0.25 \nQ 13.140625 0.921875 6.890625 3.21875 \nL 6.890625 13.375 \nQ 12.890625 10.015625 18.65625 8.296875 \nQ 24.421875 6.59375 29.984375 6.59375 \nQ 38.421875 6.59375 43.015625 9.90625 \nQ 47.609375 13.234375 47.609375 19.390625 \nQ 47.609375 24.75 44.3125 27.78125 \nQ 41.015625 30.8125 33.5 32.328125 \nL 27.484375 33.5 \nQ 16.453125 35.6875 11.515625 40.375 \nQ 6.59375 45.0625 6.59375 53.421875 \nQ 6.59375 63.09375 13.40625 68.65625 \nQ 20.21875 74.21875 32.171875 74.21875 \nQ 37.3125 74.21875 42.625 73.28125 \nQ 47.953125 72.359375 53.515625 70.515625 \nz\n\" id=\"DejaVuSans-83\"/>\n      <path d=\"M 18.109375 8.203125 \nL 18.109375 -20.796875 \nL 9.078125 -20.796875 \nL 9.078125 54.6875 \nL 18.109375 54.6875 \nL 18.109375 46.390625 \nQ 20.953125 51.265625 25.265625 53.625 \nQ 29.59375 56 35.59375 56 \nQ 45.5625 56 51.78125 48.09375 \nQ 58.015625 40.1875 58.015625 27.296875 \nQ 58.015625 14.40625 51.78125 6.484375 \nQ 45.5625 -1.421875 35.59375 -1.421875 \nQ 29.59375 -1.421875 25.265625 0.953125 \nQ 20.953125 3.328125 18.109375 8.203125 \nz\nM 48.6875 27.296875 \nQ 48.6875 37.203125 44.609375 42.84375 \nQ 40.53125 48.484375 33.40625 48.484375 \nQ 26.265625 48.484375 22.1875 42.84375 \nQ 18.109375 37.203125 18.109375 27.296875 \nQ 18.109375 17.390625 22.1875 11.75 \nQ 26.265625 6.109375 33.40625 6.109375 \nQ 40.53125 6.109375 44.609375 11.75 \nQ 48.6875 17.390625 48.6875 27.296875 \nz\n\" id=\"DejaVuSans-112\"/>\n      <path d=\"M 34.28125 27.484375 \nQ 23.390625 27.484375 19.1875 25 \nQ 14.984375 22.515625 14.984375 16.5 \nQ 14.984375 11.71875 18.140625 8.90625 \nQ 21.296875 6.109375 26.703125 6.109375 \nQ 34.1875 6.109375 38.703125 11.40625 \nQ 43.21875 16.703125 43.21875 25.484375 \nL 43.21875 27.484375 \nz\nM 52.203125 31.203125 \nL 52.203125 0 \nL 43.21875 0 \nL 43.21875 8.296875 \nQ 40.140625 3.328125 35.546875 0.953125 \nQ 30.953125 -1.421875 24.3125 -1.421875 \nQ 15.921875 -1.421875 10.953125 3.296875 \nQ 6 8.015625 6 15.921875 \nQ 6 25.140625 12.171875 29.828125 \nQ 18.359375 34.515625 30.609375 34.515625 \nL 43.21875 34.515625 \nL 43.21875 35.40625 \nQ 43.21875 41.609375 39.140625 45 \nQ 35.0625 48.390625 27.6875 48.390625 \nQ 23 48.390625 18.546875 47.265625 \nQ 14.109375 46.140625 10.015625 43.890625 \nL 10.015625 52.203125 \nQ 14.9375 54.109375 19.578125 55.046875 \nQ 24.21875 56 28.609375 56 \nQ 40.484375 56 46.34375 49.84375 \nQ 52.203125 43.703125 52.203125 31.203125 \nz\n\" id=\"DejaVuSans-97\"/>\n      <path d=\"M 41.109375 46.296875 \nQ 39.59375 47.171875 37.8125 47.578125 \nQ 36.03125 48 33.890625 48 \nQ 26.265625 48 22.1875 43.046875 \nQ 18.109375 38.09375 18.109375 28.8125 \nL 18.109375 0 \nL 9.078125 0 \nL 9.078125 54.6875 \nL 18.109375 54.6875 \nL 18.109375 46.1875 \nQ 20.953125 51.171875 25.484375 53.578125 \nQ 30.03125 56 36.53125 56 \nQ 37.453125 56 38.578125 55.875 \nQ 39.703125 55.765625 41.0625 55.515625 \nz\n\" id=\"DejaVuSans-114\"/>\n      <path d=\"M 44.28125 53.078125 \nL 44.28125 44.578125 \nQ 40.484375 46.53125 36.375 47.5 \nQ 32.28125 48.484375 27.875 48.484375 \nQ 21.1875 48.484375 17.84375 46.4375 \nQ 14.5 44.390625 14.5 40.28125 \nQ 14.5 37.15625 16.890625 35.375 \nQ 19.28125 33.59375 26.515625 31.984375 \nL 29.59375 31.296875 \nQ 39.15625 29.25 43.1875 25.515625 \nQ 47.21875 21.78125 47.21875 15.09375 \nQ 47.21875 7.46875 41.1875 3.015625 \nQ 35.15625 -1.421875 24.609375 -1.421875 \nQ 20.21875 -1.421875 15.453125 -0.5625 \nQ 10.6875 0.296875 5.421875 2 \nL 5.421875 11.28125 \nQ 10.40625 8.6875 15.234375 7.390625 \nQ 20.0625 6.109375 24.8125 6.109375 \nQ 31.15625 6.109375 34.5625 8.28125 \nQ 37.984375 10.453125 37.984375 14.40625 \nQ 37.984375 18.0625 35.515625 20.015625 \nQ 33.0625 21.96875 24.703125 23.78125 \nL 21.578125 24.515625 \nQ 13.234375 26.265625 9.515625 29.90625 \nQ 5.8125 33.546875 5.8125 39.890625 \nQ 5.8125 47.609375 11.28125 51.796875 \nQ 16.75 56 26.8125 56 \nQ 31.78125 56 36.171875 55.265625 \nQ 40.578125 54.546875 44.28125 53.078125 \nz\n\" id=\"DejaVuSans-115\"/>\n      <path d=\"M 9.421875 54.6875 \nL 18.40625 54.6875 \nL 18.40625 0 \nL 9.421875 0 \nz\nM 9.421875 75.984375 \nL 18.40625 75.984375 \nL 18.40625 64.59375 \nL 9.421875 64.59375 \nz\n\" id=\"DejaVuSans-105\"/>\n      <path d=\"M 32.171875 -5.078125 \nQ 28.375 -14.84375 24.75 -17.8125 \nQ 21.140625 -20.796875 15.09375 -20.796875 \nL 7.90625 -20.796875 \nL 7.90625 -13.28125 \nL 13.1875 -13.28125 \nQ 16.890625 -13.28125 18.9375 -11.515625 \nQ 21 -9.765625 23.484375 -3.21875 \nL 25.09375 0.875 \nL 2.984375 54.6875 \nL 12.5 54.6875 \nL 29.59375 11.921875 \nL 46.6875 54.6875 \nL 56.203125 54.6875 \nz\n\" id=\"DejaVuSans-121\"/>\n     </defs>\n     <g transform=\"translate(14.798438 159.399375)rotate(-90)scale(0.1 -0.1)\">\n      <use xlink:href=\"#DejaVuSans-83\"/>\n      <use x=\"63.476562\" xlink:href=\"#DejaVuSans-112\"/>\n      <use x=\"126.953125\" xlink:href=\"#DejaVuSans-97\"/>\n      <use x=\"188.232422\" xlink:href=\"#DejaVuSans-114\"/>\n      <use x=\"229.345703\" xlink:href=\"#DejaVuSans-115\"/>\n      <use x=\"281.445312\" xlink:href=\"#DejaVuSans-105\"/>\n      <use x=\"309.228516\" xlink:href=\"#DejaVuSans-116\"/>\n      <use x=\"348.4375\" xlink:href=\"#DejaVuSans-121\"/>\n     </g>\n    </g>\n   </g>\n   <g id=\"patch_13\">\n    <path d=\"M 43.78125 255.718125 \nL 43.78125 22.318125 \n\" style=\"fill:none;stroke:#000000;stroke-linecap:square;stroke-linejoin:miter;stroke-width:0.8;\"/>\n   </g>\n   <g id=\"patch_14\">\n    <path d=\"M 400.377309 255.718125 \nL 400.377309 22.318125 \n\" style=\"fill:none;stroke:#000000;stroke-linecap:square;stroke-linejoin:miter;stroke-width:0.8;\"/>\n   </g>\n   <g id=\"patch_15\">\n    <path d=\"M 43.78125 255.718125 \nL 400.377309 255.718125 \n\" style=\"fill:none;stroke:#000000;stroke-linecap:square;stroke-linejoin:miter;stroke-width:0.8;\"/>\n   </g>\n   <g id=\"patch_16\">\n    <path d=\"M 43.78125 22.318125 \nL 400.377309 22.318125 \n\" style=\"fill:none;stroke:#000000;stroke-linecap:square;stroke-linejoin:miter;stroke-width:0.8;\"/>\n   </g>\n   <g id=\"text_13\">\n    <!-- 0.26 -->\n    <g transform=\"translate(60.927815 190.436057)scale(0.1 -0.1)\">\n     <use xlink:href=\"#DejaVuSans-48\"/>\n     <use x=\"63.623047\" xlink:href=\"#DejaVuSans-46\"/>\n     <use x=\"95.410156\" xlink:href=\"#DejaVuSans-50\"/>\n     <use x=\"159.033203\" xlink:href=\"#DejaVuSans-54\"/>\n    </g>\n   </g>\n   <g id=\"text_14\">\n    <!-- 0.84 -->\n    <g transform=\"translate(129.901908 56.138438)scale(0.1 -0.1)\">\n     <use xlink:href=\"#DejaVuSans-48\"/>\n     <use x=\"63.623047\" xlink:href=\"#DejaVuSans-46\"/>\n     <use x=\"95.410156\" xlink:href=\"#DejaVuSans-56\"/>\n     <use x=\"159.033203\" xlink:href=\"#DejaVuSans-52\"/>\n    </g>\n   </g>\n   <g id=\"text_15\">\n    <!-- 0.89 -->\n    <defs>\n     <path d=\"M 10.984375 1.515625 \nL 10.984375 10.5 \nQ 14.703125 8.734375 18.5 7.8125 \nQ 22.3125 6.890625 25.984375 6.890625 \nQ 35.75 6.890625 40.890625 13.453125 \nQ 46.046875 20.015625 46.78125 33.40625 \nQ 43.953125 29.203125 39.59375 26.953125 \nQ 35.25 24.703125 29.984375 24.703125 \nQ 19.046875 24.703125 12.671875 31.3125 \nQ 6.296875 37.9375 6.296875 49.421875 \nQ 6.296875 60.640625 12.9375 67.421875 \nQ 19.578125 74.21875 30.609375 74.21875 \nQ 43.265625 74.21875 49.921875 64.515625 \nQ 56.59375 54.828125 56.59375 36.375 \nQ 56.59375 19.140625 48.40625 8.859375 \nQ 40.234375 -1.421875 26.421875 -1.421875 \nQ 22.703125 -1.421875 18.890625 -0.6875 \nQ 15.09375 0.046875 10.984375 1.515625 \nz\nM 30.609375 32.421875 \nQ 37.25 32.421875 41.125 36.953125 \nQ 45.015625 41.5 45.015625 49.421875 \nQ 45.015625 57.28125 41.125 61.84375 \nQ 37.25 66.40625 30.609375 66.40625 \nQ 23.96875 66.40625 20.09375 61.84375 \nQ 16.21875 57.28125 16.21875 49.421875 \nQ 16.21875 41.5 20.09375 36.953125 \nQ 23.96875 32.421875 30.609375 32.421875 \nz\n\" id=\"DejaVuSans-57\"/>\n    </defs>\n    <g transform=\"translate(198.876001 44.561057)scale(0.1 -0.1)\">\n     <use xlink:href=\"#DejaVuSans-48\"/>\n     <use x=\"63.623047\" xlink:href=\"#DejaVuSans-46\"/>\n     <use x=\"95.410156\" xlink:href=\"#DejaVuSans-56\"/>\n     <use x=\"159.033203\" xlink:href=\"#DejaVuSans-57\"/>\n    </g>\n   </g>\n   <g id=\"text_16\">\n    <!-- 0.96 -->\n    <g transform=\"translate(267.850093 28.352723)scale(0.1 -0.1)\">\n     <use xlink:href=\"#DejaVuSans-48\"/>\n     <use x=\"63.623047\" xlink:href=\"#DejaVuSans-46\"/>\n     <use x=\"95.410156\" xlink:href=\"#DejaVuSans-57\"/>\n     <use x=\"159.033203\" xlink:href=\"#DejaVuSans-54\"/>\n    </g>\n   </g>\n   <g id=\"text_17\">\n    <!-- 0.96 -->\n    <g transform=\"translate(336.824186 28.352723)scale(0.1 -0.1)\">\n     <use xlink:href=\"#DejaVuSans-48\"/>\n     <use x=\"63.623047\" xlink:href=\"#DejaVuSans-46\"/>\n     <use x=\"95.410156\" xlink:href=\"#DejaVuSans-57\"/>\n     <use x=\"159.033203\" xlink:href=\"#DejaVuSans-54\"/>\n    </g>\n   </g>\n   <g id=\"text_18\">\n    <!-- 0.23 -->\n    <defs>\n     <path d=\"M 40.578125 39.3125 \nQ 47.65625 37.796875 51.625 33 \nQ 55.609375 28.21875 55.609375 21.1875 \nQ 55.609375 10.40625 48.1875 4.484375 \nQ 40.765625 -1.421875 27.09375 -1.421875 \nQ 22.515625 -1.421875 17.65625 -0.515625 \nQ 12.796875 0.390625 7.625 2.203125 \nL 7.625 11.71875 \nQ 11.71875 9.328125 16.59375 8.109375 \nQ 21.484375 6.890625 26.8125 6.890625 \nQ 36.078125 6.890625 40.9375 10.546875 \nQ 45.796875 14.203125 45.796875 21.1875 \nQ 45.796875 27.640625 41.28125 31.265625 \nQ 36.765625 34.90625 28.71875 34.90625 \nL 20.21875 34.90625 \nL 20.21875 43.015625 \nL 29.109375 43.015625 \nQ 36.375 43.015625 40.234375 45.921875 \nQ 44.09375 48.828125 44.09375 54.296875 \nQ 44.09375 59.90625 40.109375 62.90625 \nQ 36.140625 65.921875 28.71875 65.921875 \nQ 24.65625 65.921875 20.015625 65.03125 \nQ 15.375 64.15625 9.8125 62.3125 \nL 9.8125 71.09375 \nQ 15.4375 72.65625 20.34375 73.4375 \nQ 25.25 74.21875 29.59375 74.21875 \nQ 40.828125 74.21875 47.359375 69.109375 \nQ 53.90625 64.015625 53.90625 55.328125 \nQ 53.90625 49.265625 50.4375 45.09375 \nQ 46.96875 40.921875 40.578125 39.3125 \nz\n\" id=\"DejaVuSans-51\"/>\n    </defs>\n    <g transform=\"translate(85.068748 197.382485)scale(0.1 -0.1)\">\n     <use xlink:href=\"#DejaVuSans-48\"/>\n     <use x=\"63.623047\" xlink:href=\"#DejaVuSans-46\"/>\n     <use x=\"95.410156\" xlink:href=\"#DejaVuSans-50\"/>\n     <use x=\"159.033203\" xlink:href=\"#DejaVuSans-51\"/>\n    </g>\n   </g>\n   <g id=\"text_19\">\n    <!-- 0.79 -->\n    <defs>\n     <path d=\"M 8.203125 72.90625 \nL 55.078125 72.90625 \nL 55.078125 68.703125 \nL 28.609375 0 \nL 18.3125 0 \nL 43.21875 64.59375 \nL 8.203125 64.59375 \nz\n\" id=\"DejaVuSans-55\"/>\n    </defs>\n    <g transform=\"translate(154.042841 67.715818)scale(0.1 -0.1)\">\n     <use xlink:href=\"#DejaVuSans-48\"/>\n     <use x=\"63.623047\" xlink:href=\"#DejaVuSans-46\"/>\n     <use x=\"95.410156\" xlink:href=\"#DejaVuSans-55\"/>\n     <use x=\"159.033203\" xlink:href=\"#DejaVuSans-57\"/>\n    </g>\n   </g>\n   <g id=\"text_20\">\n    <!-- 0.8 -->\n    <g transform=\"translate(226.198183 65.400342)scale(0.1 -0.1)\">\n     <use xlink:href=\"#DejaVuSans-48\"/>\n     <use x=\"63.623047\" xlink:href=\"#DejaVuSans-46\"/>\n     <use x=\"95.410156\" xlink:href=\"#DejaVuSans-56\"/>\n    </g>\n   </g>\n   <g id=\"text_21\">\n    <!-- 0.95 -->\n    <defs>\n     <path d=\"M 10.796875 72.90625 \nL 49.515625 72.90625 \nL 49.515625 64.59375 \nL 19.828125 64.59375 \nL 19.828125 46.734375 \nQ 21.96875 47.46875 24.109375 47.828125 \nQ 26.265625 48.1875 28.421875 48.1875 \nQ 40.625 48.1875 47.75 41.5 \nQ 54.890625 34.8125 54.890625 23.390625 \nQ 54.890625 11.625 47.5625 5.09375 \nQ 40.234375 -1.421875 26.90625 -1.421875 \nQ 22.3125 -1.421875 17.546875 -0.640625 \nQ 12.796875 0.140625 7.71875 1.703125 \nL 7.71875 11.625 \nQ 12.109375 9.234375 16.796875 8.0625 \nQ 21.484375 6.890625 26.703125 6.890625 \nQ 35.15625 6.890625 40.078125 11.328125 \nQ 45.015625 15.765625 45.015625 23.390625 \nQ 45.015625 31 40.078125 35.4375 \nQ 35.15625 39.890625 26.703125 39.890625 \nQ 22.75 39.890625 18.8125 39.015625 \nQ 14.890625 38.140625 10.796875 36.28125 \nz\n\" id=\"DejaVuSans-53\"/>\n    </defs>\n    <g transform=\"translate(291.991026 30.668199)scale(0.1 -0.1)\">\n     <use xlink:href=\"#DejaVuSans-48\"/>\n     <use x=\"63.623047\" xlink:href=\"#DejaVuSans-46\"/>\n     <use x=\"95.410156\" xlink:href=\"#DejaVuSans-57\"/>\n     <use x=\"159.033203\" xlink:href=\"#DejaVuSans-53\"/>\n    </g>\n   </g>\n   <g id=\"text_22\">\n    <!-- 0.95 -->\n    <g transform=\"translate(360.965119 30.668199)scale(0.1 -0.1)\">\n     <use xlink:href=\"#DejaVuSans-48\"/>\n     <use x=\"63.623047\" xlink:href=\"#DejaVuSans-46\"/>\n     <use x=\"95.410156\" xlink:href=\"#DejaVuSans-57\"/>\n     <use x=\"159.033203\" xlink:href=\"#DejaVuSans-53\"/>\n    </g>\n   </g>\n   <g id=\"text_23\">\n    <!-- Sparsity of the FC layers of all models -->\n    <defs>\n     <path id=\"DejaVuSans-32\"/>\n     <path d=\"M 37.109375 75.984375 \nL 37.109375 68.5 \nL 28.515625 68.5 \nQ 23.6875 68.5 21.796875 66.546875 \nQ 19.921875 64.59375 19.921875 59.515625 \nL 19.921875 54.6875 \nL 34.71875 54.6875 \nL 34.71875 47.703125 \nL 19.921875 47.703125 \nL 19.921875 0 \nL 10.890625 0 \nL 10.890625 47.703125 \nL 2.296875 47.703125 \nL 2.296875 54.6875 \nL 10.890625 54.6875 \nL 10.890625 58.5 \nQ 10.890625 67.625 15.140625 71.796875 \nQ 19.390625 75.984375 28.609375 75.984375 \nz\n\" id=\"DejaVuSans-102\"/>\n     <path d=\"M 54.890625 33.015625 \nL 54.890625 0 \nL 45.90625 0 \nL 45.90625 32.71875 \nQ 45.90625 40.484375 42.875 44.328125 \nQ 39.84375 48.1875 33.796875 48.1875 \nQ 26.515625 48.1875 22.3125 43.546875 \nQ 18.109375 38.921875 18.109375 30.90625 \nL 18.109375 0 \nL 9.078125 0 \nL 9.078125 75.984375 \nL 18.109375 75.984375 \nL 18.109375 46.1875 \nQ 21.34375 51.125 25.703125 53.5625 \nQ 30.078125 56 35.796875 56 \nQ 45.21875 56 50.046875 50.171875 \nQ 54.890625 44.34375 54.890625 33.015625 \nz\n\" id=\"DejaVuSans-104\"/>\n     <path d=\"M 9.8125 72.90625 \nL 51.703125 72.90625 \nL 51.703125 64.59375 \nL 19.671875 64.59375 \nL 19.671875 43.109375 \nL 48.578125 43.109375 \nL 48.578125 34.8125 \nL 19.671875 34.8125 \nL 19.671875 0 \nL 9.8125 0 \nz\n\" id=\"DejaVuSans-70\"/>\n     <path d=\"M 64.40625 67.28125 \nL 64.40625 56.890625 \nQ 59.421875 61.53125 53.78125 63.8125 \nQ 48.140625 66.109375 41.796875 66.109375 \nQ 29.296875 66.109375 22.65625 58.46875 \nQ 16.015625 50.828125 16.015625 36.375 \nQ 16.015625 21.96875 22.65625 14.328125 \nQ 29.296875 6.6875 41.796875 6.6875 \nQ 48.140625 6.6875 53.78125 8.984375 \nQ 59.421875 11.28125 64.40625 15.921875 \nL 64.40625 5.609375 \nQ 59.234375 2.09375 53.4375 0.328125 \nQ 47.65625 -1.421875 41.21875 -1.421875 \nQ 24.65625 -1.421875 15.125 8.703125 \nQ 5.609375 18.84375 5.609375 36.375 \nQ 5.609375 53.953125 15.125 64.078125 \nQ 24.65625 74.21875 41.21875 74.21875 \nQ 47.75 74.21875 53.53125 72.484375 \nQ 59.328125 70.75 64.40625 67.28125 \nz\n\" id=\"DejaVuSans-67\"/>\n    </defs>\n    <g transform=\"translate(108.220842 16.318125)scale(0.12 -0.12)\">\n     <use xlink:href=\"#DejaVuSans-83\"/>\n     <use x=\"63.476562\" xlink:href=\"#DejaVuSans-112\"/>\n     <use x=\"126.953125\" xlink:href=\"#DejaVuSans-97\"/>\n     <use x=\"188.232422\" xlink:href=\"#DejaVuSans-114\"/>\n     <use x=\"229.345703\" xlink:href=\"#DejaVuSans-115\"/>\n     <use x=\"281.445312\" xlink:href=\"#DejaVuSans-105\"/>\n     <use x=\"309.228516\" xlink:href=\"#DejaVuSans-116\"/>\n     <use x=\"348.4375\" xlink:href=\"#DejaVuSans-121\"/>\n     <use x=\"407.617188\" xlink:href=\"#DejaVuSans-32\"/>\n     <use x=\"439.404297\" xlink:href=\"#DejaVuSans-111\"/>\n     <use x=\"500.585938\" xlink:href=\"#DejaVuSans-102\"/>\n     <use x=\"535.791016\" xlink:href=\"#DejaVuSans-32\"/>\n     <use x=\"567.578125\" xlink:href=\"#DejaVuSans-116\"/>\n     <use x=\"606.787109\" xlink:href=\"#DejaVuSans-104\"/>\n     <use x=\"670.166016\" xlink:href=\"#DejaVuSans-101\"/>\n     <use x=\"731.689453\" xlink:href=\"#DejaVuSans-32\"/>\n     <use x=\"763.476562\" xlink:href=\"#DejaVuSans-70\"/>\n     <use x=\"820.996094\" xlink:href=\"#DejaVuSans-67\"/>\n     <use x=\"890.820312\" xlink:href=\"#DejaVuSans-32\"/>\n     <use x=\"922.607422\" xlink:href=\"#DejaVuSans-108\"/>\n     <use x=\"950.390625\" xlink:href=\"#DejaVuSans-97\"/>\n     <use x=\"1011.669922\" xlink:href=\"#DejaVuSans-121\"/>\n     <use x=\"1070.849609\" xlink:href=\"#DejaVuSans-101\"/>\n     <use x=\"1132.373047\" xlink:href=\"#DejaVuSans-114\"/>\n     <use x=\"1173.486328\" xlink:href=\"#DejaVuSans-115\"/>\n     <use x=\"1225.585938\" xlink:href=\"#DejaVuSans-32\"/>\n     <use x=\"1257.373047\" xlink:href=\"#DejaVuSans-111\"/>\n     <use x=\"1318.554688\" xlink:href=\"#DejaVuSans-102\"/>\n     <use x=\"1353.759766\" xlink:href=\"#DejaVuSans-32\"/>\n     <use x=\"1385.546875\" xlink:href=\"#DejaVuSans-97\"/>\n     <use x=\"1446.826172\" xlink:href=\"#DejaVuSans-108\"/>\n     <use x=\"1474.609375\" xlink:href=\"#DejaVuSans-108\"/>\n     <use x=\"1502.392578\" xlink:href=\"#DejaVuSans-32\"/>\n     <use x=\"1534.179688\" xlink:href=\"#DejaVuSans-109\"/>\n     <use x=\"1631.591797\" xlink:href=\"#DejaVuSans-111\"/>\n     <use x=\"1692.773438\" xlink:href=\"#DejaVuSans-100\"/>\n     <use x=\"1756.25\" xlink:href=\"#DejaVuSans-101\"/>\n     <use x=\"1817.773438\" xlink:href=\"#DejaVuSans-108\"/>\n     <use x=\"1845.556641\" xlink:href=\"#DejaVuSans-115\"/>\n    </g>\n   </g>\n   <g id=\"legend_1\">\n    <g id=\"patch_17\">\n     <path d=\"M 50.78125 59.674375 \nL 120.204688 59.674375 \nQ 122.204688 59.674375 122.204688 57.674375 \nL 122.204688 29.318125 \nQ 122.204688 27.318125 120.204688 27.318125 \nL 50.78125 27.318125 \nQ 48.78125 27.318125 48.78125 29.318125 \nL 48.78125 57.674375 \nQ 48.78125 59.674375 50.78125 59.674375 \nz\n\" style=\"fill:#ffffff;opacity:0.8;stroke:#cccccc;stroke-linejoin:miter;\"/>\n    </g>\n    <g id=\"patch_18\">\n     <path d=\"M 52.78125 38.916562 \nL 72.78125 38.916562 \nL 72.78125 31.916562 \nL 52.78125 31.916562 \nz\n\" style=\"fill:#1f77b4;\"/>\n    </g>\n    <g id=\"text_24\">\n     <!-- Layer 5 -->\n     <g transform=\"translate(80.78125 38.916562)scale(0.1 -0.1)\">\n      <use xlink:href=\"#DejaVuSans-76\"/>\n      <use x=\"55.712891\" xlink:href=\"#DejaVuSans-97\"/>\n      <use x=\"116.992188\" xlink:href=\"#DejaVuSans-121\"/>\n      <use x=\"176.171875\" xlink:href=\"#DejaVuSans-101\"/>\n      <use x=\"237.695312\" xlink:href=\"#DejaVuSans-114\"/>\n      <use x=\"278.808594\" xlink:href=\"#DejaVuSans-32\"/>\n      <use x=\"310.595703\" xlink:href=\"#DejaVuSans-53\"/>\n     </g>\n    </g>\n    <g id=\"patch_19\">\n     <path d=\"M 52.78125 53.594688 \nL 72.78125 53.594688 \nL 72.78125 46.594688 \nL 52.78125 46.594688 \nz\n\" style=\"fill:#ff7f0e;\"/>\n    </g>\n    <g id=\"text_25\">\n     <!-- Layer 6 -->\n     <g transform=\"translate(80.78125 53.594688)scale(0.1 -0.1)\">\n      <use xlink:href=\"#DejaVuSans-76\"/>\n      <use x=\"55.712891\" xlink:href=\"#DejaVuSans-97\"/>\n      <use x=\"116.992188\" xlink:href=\"#DejaVuSans-121\"/>\n      <use x=\"176.171875\" xlink:href=\"#DejaVuSans-101\"/>\n      <use x=\"237.695312\" xlink:href=\"#DejaVuSans-114\"/>\n      <use x=\"278.808594\" xlink:href=\"#DejaVuSans-32\"/>\n      <use x=\"310.595703\" xlink:href=\"#DejaVuSans-54\"/>\n     </g>\n    </g>\n   </g>\n  </g>\n </g>\n <defs>\n  <clipPath id=\"p44204ecd8d\">\n   <rect height=\"233.4\" width=\"356.596059\" x=\"43.78125\" y=\"22.318125\"/>\n  </clipPath>\n </defs>\n</svg>\n",
            "image/png": "[encoded data removed]"
          },
          "metadata": {
            "needs_background": "light"
          }
        }
      ]
    },
    {
      "cell_type": "code",
      "metadata": {
        "id": "aes9tVbrI5Vf"
      },
      "source": [
        ""
      ],
      "execution_count": null,
      "outputs": []
    },
    {
      "cell_type": "markdown",
      "metadata": {
        "id": "FegUnKtKNl4J"
      },
      "source": [
        "**Board**"
      ]
    },
    {
      "cell_type": "code",
      "metadata": {
        "id": "NWL6bBTzNpvV"
      },
      "source": [
        "%load_ext tensorboard\n",
        "%tensorboard --logdir logs/fit"
      ],
      "execution_count": 17,
      "outputs": [
        {
          "output_type": "display_data",
          "data": {
            "text/plain": "Reusing TensorBoard on port 6006 (pid 21495), started 7:43:59 ago. (Use '!kill 21495' to kill it.)"
          },
          "metadata": {}
        }
      ]
    }
  ]
}